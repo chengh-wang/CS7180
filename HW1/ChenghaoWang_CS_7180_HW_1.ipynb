{
  "cells": [
    {
      "cell_type": "markdown",
      "metadata": {
        "id": "P0QDYjIVZnbJ"
      },
      "source": [
        "# CS 7180 Geometric Deep Learning, Homework 1: CNNs and GNNs\n",
        "\n",
        "## TLDR\n",
        "\n",
        "* **To start solving the homework, create a copy of this notebook:** `File -> Save a copy in Drive`.\n",
        "* **To hand-in the homework**, email your PDF with answers to `biza.o@northeastern.edu` and add `biza.o@northeastern.edu` as a `Commentor` using the `Share` button **in your copy of this notebook**.\n",
        "* Deadline is Wednesday February 1st, 5 PM EST.\n",
        "\n",
        "## Solving the homework in Google Colab\n",
        "\n",
        "[Google Colab](colab.research.google) is an online platform for running interactive Python session with [Jupyter](https://jupyter.org/) / [IPython](https://ipython.org/) (`.ipynb`) notebooks. We recommend you use it so that we can avoid problems with setting up local Python environment and so that we can use free GPUs to accelerate neural network training. \n",
        "\n",
        "If you have not used Python notebooks before, please check [this overview](https://colab.research.google.com/notebooks/basic_features_overview.ipynb). If you are new to Python, you can refer to [this excellent Python Numpy Tutorial](https://cs231n.github.io/python-numpy-tutorial/). We will be using [Numpy](https://numpy.org/) and [PyTorch](https://pytorch.org/) extensively to prepare data and train neural networks. For a PyTorch tutorial, follow [this link](https://pytorch.org/tutorials/beginner/basics/quickstart_tutorial.html) and select `Run in Google Colab`.\n",
        "\n",
        "You cannot save the changes you made to this notebook. To start solving the homework, create a copy that you can edit: `File -> Save a copy in Drive`.\n",
        "\n",
        "By default, your instance will run on a CPU. That is ok, but training neural network might take a while. You can (and should) request a free GPU instance using: `Runtime` -> `Change runtime type` -> `Hardware accelerator` -> `GPU` (-> `Delete previous runtime` -> `OK`). Note that your GPU instance will stop due to inactivity or a 12-hour time limit, but you can usually immediately request a new one. This will however delete all your progress (e.g. network weights) that is not saved in your code blocks, text blocks or Google Drive.\n",
        "\n",
        "Another useful command to reset your instance (keeps your GPU):\n",
        "`Runtime` -> `Restart runtime`.\n",
        "\n",
        "## Handing in the homework\n",
        "\n",
        "Please email a PDF with your answers to `biza.o@northeastern.edu`. We recommend you write-up your answers in latex (e.g. [overleaf.com](https://www.overleaf.com)). Please also share your copy of this notebook by clicking `Share` in the top-right corner, adding `biza.o@northeastern.edu`, setting me as `Commentor` and enabling `Notify people`. Another option is to email your `.ipynb` to me.\n",
        "\n",
        "## Deadline\n",
        "The deadline for this homework is **Wednesday February 1st, 5 PM EST**. You should email your solution to me by that time.\n",
        "\n",
        "## (Optional) Solving the homework on your local machine\n",
        "You can download this notebook using `Download -> Download .ipynb` and run it on your local machine. To set up a local environment, download [Python 3.6](https://www.python.org/) or later, set up a [virtual environment](https://docs.python.org/3/library/venv.html) and install [relevant packages](https://pip.pypa.io/en/stable/reference/requirements-file-format/) using [pip](https://pypi.org/project/pip/). On Linux, you would do something like this:\n",
        "\n",
        "```\n",
        "# Assuming you have Python >= 3.6 and python3-venv installed.\n",
        "python3 -m venv venv\n",
        "source ./venv/bin/activate\n",
        "# Prevents opencv-python (which we might use) from taking forever to install.\n",
        "pip install --upgrade pip setuptools wheel\n",
        "pip install -r requirements.txt\n",
        "pip install jupyter\n",
        "# Run in the directory where this notebook is located. A browser window should open.\n",
        "jupyter notebook .\n",
        "```\n",
        "\n",
        "You can run `!pip freeze` *in colab* to see the version of packages we are using. Then, you can copy the relevant packages (i.e. the ones we import) to your `requirements.txt` file or install them using `pip install x` in command line or `!pip install x` directly in the notebook. Importantly, to run on your GPU, you will need to install a `torch` version that matches your [CUDA](https://developer.nvidia.com/cuda-downloads) and [cuDNN](https://developer.nvidia.com/cudnn) versions. Please refer to the [PyTorch website](https://pytorch.org/). We might use the CPU version of tensorflow to prepare datasets."
      ]
    },
    {
      "cell_type": "markdown",
      "metadata": {
        "id": "N_H6WOJ1Tpr-"
      },
      "source": [
        "# Python setup"
      ]
    },
    {
      "cell_type": "code",
      "execution_count": null,
      "metadata": {
        "colab": {
          "base_uri": "https://localhost:8080/"
        },
        "id": "Rp1vYn8xUIJI",
        "outputId": "0b93a6a1-a916-4e88-eb91-9870a626a7e6"
      },
      "outputs": [],
      "source": [
        "gpu_info = !nvidia-smi\n",
        "gpu_info = '\\n'.join(gpu_info)\n",
        "if gpu_info.find('failed') >= 0:\n",
        "  print('Not connected to a GPU')\n",
        "else:\n",
        "  print(gpu_info)"
      ]
    },
    {
      "cell_type": "code",
      "execution_count": null,
      "metadata": {
        "id": "YXf-M7dnC_Iv"
      },
      "outputs": [],
      "source": [
        "import os\n",
        "# I like to use typing, but you don't have to!\n",
        "from typing import Any, Dict, Tuple, Union\n",
        "\n",
        "import networkx as nx\n",
        "import numpy as np\n",
        "from numpy.typing import NDArray\n",
        "import matplotlib.pyplot as plt\n",
        "from scipy.ndimage import shift\n",
        "import scipy.sparse as sp\n",
        "import tensorflow as tf\n",
        "import tensorflow_datasets as tfds\n",
        "import torch\n",
        "from torch.utils.data import DataLoader\n",
        "from torch import nn\n",
        "from torch.nn import functional as F\n",
        "from torch import optim\n",
        "import torchvision\n",
        "from torchvision import datasets, transforms\n",
        "import torch.utils.data as data_utils\n",
        "\n",
        "# We might use tensorflow to load datasets.\n",
        "# Prevent tensorflow from stealing our GPU.\n",
        "tf.config.experimental.set_visible_devices([], \"GPU\")\n",
        "\n",
        "# Interactive plots.\n",
        "%matplotlib inline"
      ]
    },
    {
      "cell_type": "code",
      "execution_count": null,
      "metadata": {
        "colab": {
          "base_uri": "https://localhost:8080/"
        },
        "id": "6oxIIpGLVxis",
        "outputId": "9d42f88b-8462-4640-9e44-121d9cff1caa"
      },
      "outputs": [],
      "source": [
        "# Runtime -> Change runtime type -> Hardware accelerator -> GPU (-> Delete previous runtime -> OK).\n",
        "if torch.cuda.is_available() and torch.cuda.device_count() > 0:\n",
        "  print(\"PyTorch running on a GPU. Use '.to(device)' to move tensors and models to GPU.\")\n",
        "  device = torch.device(\"cuda:0\")\n",
        "else:\n",
        "  print(\"WARNING: PyTorch running on a CPU. See comment above to request a GPU instance.\")\n",
        "  device = torch.device(\"cpu\")"
      ]
    },
    {
      "cell_type": "markdown",
      "metadata": {
        "id": "8aEOL4wUwXEi"
      },
      "source": [
        "# Part 1: Training a convolutional network on MNIST, measuring translation equivariance."
      ]
    },
    {
      "cell_type": "markdown",
      "metadata": {
        "id": "fkBy5C3RvrjA"
      },
      "source": [
        "In this part, we will experiment with [MNIST](http://yann.lecun.com/exdb/mnist/), the quintessential deep learning dataset. You will implement and train a convolutional neural network, and measure its equivariance and invariance to translations. In 1999, [Yan LeCunn wrote](http://yann.lecun.com/exdb/publis/pdf/lecun-99.pdf) \"A large degree of invariance to geometric transformations of the input can be achieved with this [referring to subsampling and pooling in a CNN] progressive reduction of spatial resolution compensated by progressive increase of the richness of the representation (the number of feature maps).\" Let's see if that's true!"
      ]
    },
    {
      "cell_type": "markdown",
      "metadata": {
        "id": "6SYv9guvTlHt"
      },
      "source": [
        "## Data preprocessing"
      ]
    },
    {
      "cell_type": "code",
      "execution_count": null,
      "metadata": {
        "id": "x6dPf4jrAbqd"
      },
      "outputs": [],
      "source": [
        "def prepare_mnist(batch_size: int) -> Tuple[DataLoader, DataLoader]:\n",
        "  \"\"\"Prepare MNIST training and evaluation data loaders in PyTorch.\n",
        "  # https://github.com/pytorch/examples/blob/main/mnist/main.py\n",
        "  \"\"\"\n",
        "  t = transforms.ToTensor()\n",
        "\n",
        "  train_ds = datasets.MNIST(\"/tmp/mnist\", download=True, train=True, transform=t)\n",
        "  eval_ds = datasets.MNIST(\"/tmp/mnist\", download=True, train=False, transform=t)\n",
        "\n",
        "  train_loader = DataLoader(train_ds, batch_size=batch_size, shuffle=True, num_workers=2)\n",
        "  eval_loader = DataLoader(eval_ds, batch_size=batch_size, shuffle=False, num_workers=1)\n",
        "\n",
        "  return train_loader, eval_loader"
      ]
    },
    {
      "cell_type": "code",
      "execution_count": null,
      "metadata": {
        "id": "H2Td6BVpPFjc"
      },
      "outputs": [],
      "source": [
        "def translate(image: Union[torch.Tensor, NDArray], delta_x: float, delta_y: float) -> Union[torch.Tensor, NDArray]:\n",
        "  \"\"\"Translate an image. Either torch.Tensor or numpy.ndarray. Can be HxWxC or CxHxW.\"\"\"\n",
        "  is_torch = False\n",
        "  if type(image) == torch.Tensor:\n",
        "    # Pytorch to numpy.\n",
        "    is_torch = True\n",
        "    tmp = image.to(\"cpu\").detach().numpy()\n",
        "  else:\n",
        "    tmp = image\n",
        "\n",
        "  if len(tmp.shape) == 2:\n",
        "    # HxW\n",
        "    delta = [delta_x, delta_y]\n",
        "  else:\n",
        "    assert len(tmp.shape) == 3, \"Invalid number of dimensions in an image, should be 2 or 3.\"\n",
        "    if tmp.shape[0] in [1, 3]:\n",
        "      # CxHxW\n",
        "      delta = [0, delta_x, delta_y]\n",
        "    elif tmp.shape[2] in [1, 3]:\n",
        "      # HxWxC\n",
        "      delta = [delta_x, delta_y, 0]\n",
        "    else:\n",
        "      raise ValueError(\"Invalid number of channels in an image, should be 1 or 3.\")\n",
        "\n",
        "  # Shift and automatically add zero padding.\n",
        "  tmp = shift(image, delta)\n",
        "\n",
        "  if is_torch:\n",
        "    tmp = torch.tensor(tmp, dtype=image.dtype, device=image.device)\n",
        "  return tmp"
      ]
    },
    {
      "cell_type": "code",
      "execution_count": null,
      "metadata": {
        "colab": {
          "base_uri": "https://localhost:8080/",
          "height": 1000,
          "referenced_widgets": [
            "cfaaba0a554f4516b36e930cee7e07a0",
            "065760f523dd482b85208e8583ea7a2a",
            "78448c4025784f2993f44c61a34d2fe7",
            "92a819515986459cb4ec798894c02a7c",
            "348705a98535403b96dedf8b5d8c031a",
            "4ed403ec7992496ea2b86ab34c77b20c",
            "a91004dfb0884554be97c410f4a859b1",
            "1dc4b7061da14817a476a94f5c26cce9",
            "e6e150bddb7349eeb50f955a77e6cfeb",
            "29ddec75d0c04dd0aa5a2c09d52a6d78",
            "1fceb59ccf9b47d082c95fd301a16c74",
            "3f6e599725694f32b85c8b9af550b7f9",
            "31067e7b999442ada2332605b2ea8688",
            "46fdd802d51843259d1de9f032d41036",
            "f784613e7e674e51b1364d2cdec9ffb0",
            "39620e69b41f4e83bc8ba954cb796a1f",
            "2deb6ac4dd3944d4a9179511094f3c7c",
            "067989f71b674936a44817eab4881a3d",
            "06d4ac938f9e44ffaee8729e45f52c5e",
            "d01bd48690ba41bba1ddb16ac1b76826",
            "acb6c6f36ef140a3849aa51a002facb2",
            "7006613dc6074357af95b1d5749cc8c7",
            "ff675b3390604313a887864ff5fa5bef",
            "4f106680961c482e9eb34cdfabe35754",
            "f23a4c62e52540e6a9213dc331ee0f62",
            "da7dd64ca66641008012ff869823629e",
            "b3b5cfd7fdf04046bc568c6277c848dd",
            "a3c96c1c86ae40fd81f0cd696725446f",
            "4f99a5e03cab4396b66aaba34718a6d2",
            "148a82d7dc674c35a15bd693a92a389b",
            "95470e54cde94582a1c7f1d60f6340a2",
            "2ba828fe75e54b4cb3c7965aacedab9f",
            "608bece4c6834f5eaee0a549ce316e7c",
            "d2154aff65d54474bd53cb616a331f53",
            "27ca69e2d3ee44c0b440ceba538fe552",
            "253f4e0a86594d52921d8e55c0fc95ec",
            "e90bf066e1c84ce081b72225102fe8fa",
            "5c6e6c36b17c402e82513adedef6d015",
            "37a49366ad56490f9992e7c56cc2f7f4",
            "57ee29feedc64d3ca312cdab50a34481",
            "c07b49f82acd4988bbd8f065b20c1151",
            "208cd06778c7438aacbf51eb357b04d4",
            "dc8a7a274de242dd88fef38adb81aa35",
            "84baa1fff88f4d888fd57af704c2cbac"
          ]
        },
        "id": "7EJKi-5JG0ZQ",
        "outputId": "4251436a-1b7d-466e-f1a9-d7d57e1ba1fd"
      },
      "outputs": [],
      "source": [
        "train_loader, eval_loader = prepare_mnist(128)\n",
        "example = next(iter(train_loader))\n",
        "plt.figure(figsize=(10, 10))\n",
        "for i in range(5*5):\n",
        "  plt.subplot(5, 5, 1 + i)\n",
        "  plt.title(\"Label: {:d}\".format(example[1][i]))\n",
        "  plt.imshow(example[0][i][0])\n",
        "  plt.axis(\"off\")"
      ]
    },
    {
      "cell_type": "code",
      "execution_count": null,
      "metadata": {
        "id": "qCfp-0o-kacn"
      },
      "outputs": [],
      "source": [
        "t = transforms.ToTensor()\n",
        "train_ds = datasets.MNIST(\"/tmp/mnist\", download=True, train=True, transform=t)"
      ]
    },
    {
      "cell_type": "code",
      "execution_count": null,
      "metadata": {
        "colab": {
          "base_uri": "https://localhost:8080/"
        },
        "id": "9KtmZ2UUKriq",
        "outputId": "da5a4c31-5df5-489f-9461-ee1f1530ba35"
      },
      "outputs": [],
      "source": [
        "# train_ds_trans = torch.empty_like(train_ds[0][0])\n",
        "# train_ds_trans = torch.tensor((6000,1,28,28), dtype=torch.float64)\n",
        "# train_ds_trans.new_zeros((6000,1,28,28)).shape\n",
        "train_ds_ = torch.FloatTensor(1, 1, 28, 28) \n",
        "torch.unsqueeze(translate(train_ds[i][0], -1, -3),0).shape"
      ]
    },
    {
      "cell_type": "code",
      "execution_count": null,
      "metadata": {
        "colab": {
          "base_uri": "https://localhost:8080/",
          "height": 592
        },
        "id": "tSUzi2zXJyZB",
        "outputId": "049c6f40-8b15-4f5c-bc04-d8e6adf78357"
      },
      "outputs": [],
      "source": [
        "img = example[0][0]\n",
        "transl = [-5, -2, 0, 2, 5]\n",
        "print(\"Translate by {}.\".format(transl))\n",
        "plt.figure(figsize=(10, 10))\n",
        "for i in range(5):\n",
        "  for j in range(5):\n",
        "    tmp = translate(img, transl[i], transl[j])\n",
        "    plt.subplot(5, 5, 1 + j + i * 5)\n",
        "    plt.imshow(tmp[0])\n",
        "    plt.axis(\"off\")"
      ]
    },
    {
      "cell_type": "markdown",
      "metadata": {
        "id": "xRJBVC94TuSJ"
      },
      "source": [
        "## Training a baseline"
      ]
    },
    {
      "cell_type": "code",
      "execution_count": null,
      "metadata": {
        "id": "LS9Ft6_Qx6y3"
      },
      "outputs": [],
      "source": [
        "class MLPBaseline(nn.Module):\n",
        "  \"\"\"A Multi Layer Perceptron baseline.\n",
        "  It flattens the input image and applies three fully-connected layers\n",
        "  each followed by an activation.\"\"\"\n",
        "  def __init__(self):\n",
        "    super().__init__()\n",
        "\n",
        "    self.fc1 = nn.Linear(28 * 28, 128)\n",
        "    self.fc2 = nn.Linear(128, 128)\n",
        "    self.fc3 = nn.Linear(128, 10)\n",
        "    self.act = nn.ReLU()\n",
        "\n",
        "  def forward(self, x: torch.Tensor) -> torch.Tensor:\n",
        "\n",
        "    # print(\"shape1=\",x.shape)\n",
        "    x = x.reshape(x.shape[0], -1)\n",
        "    # print(\"shape2=\",x.shape)\n",
        "\n",
        "    x = self.act(self.fc1(x))\n",
        "    # print(\"shape3=\",x.shape)\n",
        "    x = self.act(self.fc2(x))\n",
        "    # print(\"shape4=\",x.shape)\n",
        "    # Our loss function expect log probabilities of the 10 digit classes.\n",
        "    x = F.log_softmax(self.fc3(x), dim=-1)\n",
        "    # print(\"shape5=\",x.shape)\n",
        "\n",
        "    return x"
      ]
    },
    {
      "cell_type": "code",
      "execution_count": null,
      "metadata": {
        "id": "clz39PGPLuF9"
      },
      "outputs": [],
      "source": [
        "def train(train_loader: DataLoader, model: nn.Module,\n",
        "          optimizer: optim.Optimizer, epochs: int):\n",
        "\n",
        "  losses = []\n",
        "  # 1 epoch = 1 pass through the dataset.\n",
        "  for epoch in range(epochs):\n",
        "    print(\"Epoch {:d} / {:d}\".format(epoch, epochs))\n",
        "    # train_loader steps once it iterates over all data.\n",
        "    for train_step, batch in enumerate(train_loader):\n",
        "      # train_loader gives us batched images (CxHxW) and labels (integers).\n",
        "      # If we are using a GPU we need to move them to the device.\n",
        "      inputs, labels = batch[0].to(device), batch[1].to(device)\n",
        "      # print(inputs.size())\n",
        "      # input size = torch.Size([128, 1, 28, 28])\n",
        "\n",
        "      # Reset last optimization step.\n",
        "      optimizer.zero_grad()\n",
        "      # Make prediction, calculate loss.\n",
        "      outputs = model(inputs)\n",
        "      loss = F.nll_loss(outputs, labels)\n",
        "      # Compute gradients and update weights.\n",
        "      loss.backward()\n",
        "      optimizer.step()\n",
        "      losses.append(loss.item())\n",
        "\n",
        "      if train_step > 0 and train_step % 50 == 0:\n",
        "        print(\"Mean of last 50 losses: {:f}\".format(np.mean(losses[-50:])))\n",
        "  # plt.plot(losses)\n",
        "  # plt.xlabel(\"Training step\")\n",
        "  # plt.ylabel(\"Loss\")\n",
        "  return losses\n"
      ]
    },
    {
      "cell_type": "code",
      "execution_count": null,
      "metadata": {
        "id": "5Y2j1XfoNZC9"
      },
      "outputs": [],
      "source": [
        "# We don't need gradients during evaluation.\n",
        "@torch.no_grad()\n",
        "def evaluate(eval_loader: DataLoader, model: nn.Module):\n",
        "\n",
        "  accuracy = []\n",
        "\n",
        "  for batch in eval_loader:\n",
        "    inputs, labels = batch[0].to(device), batch[1].to(device)\n",
        "    outputs = model(inputs)\n",
        "    pred_labels = torch.argmax(outputs, dim=-1)\n",
        "    tmp = (labels == pred_labels).float().mean()\n",
        "    accuracy.append(tmp.item())\n",
        "\n",
        "  # We compute the mean of means over batches.\n",
        "  # This could be slightly skewed if the last batch is smaller.\n",
        "  # Does not matter too much here.\n",
        "  accuracy = np.mean(accuracy)\n",
        "  return accuracy\n",
        "  print(\"Correct answer in {:.1f}% of cases.\".format(accuracy * 100))"
      ]
    },
    {
      "cell_type": "code",
      "execution_count": null,
      "metadata": {
        "id": "5DSwZbv0OdE7"
      },
      "outputs": [],
      "source": [
        "@torch.no_grad()\n",
        "def plot_predictions(eval_loader: DataLoader, model: nn.Module):\n",
        "  example = next(iter(eval_loader))\n",
        "  inputs = example[0].to(device)\n",
        "  outputs = model(inputs)\n",
        "  pred_labels = torch.argmax(outputs, dim=-1).to(\"cpu\").numpy()\n",
        "\n",
        "  plt.figure(figsize=(10, 10))\n",
        "  for i in range(5*5):\n",
        "    plt.subplot(5, 5, 1 + i)\n",
        "    plt.title(\"Label: {:d}\".format(pred_labels[i]))\n",
        "    plt.imshow(example[0][i][0])\n",
        "    plt.axis(\"off\")"
      ]
    },
    {
      "cell_type": "code",
      "execution_count": null,
      "metadata": {
        "id": "QF2KfoUVM-df"
      },
      "outputs": [],
      "source": [
        "model = MLPBaseline().to(device)\n",
        "optimizer = optim.Adam(model.parameters(), lr=0.001)\n",
        "train(train_loader, model, optimizer, 5)"
      ]
    },
    {
      "cell_type": "code",
      "execution_count": null,
      "metadata": {
        "colab": {
          "base_uri": "https://localhost:8080/"
        },
        "id": "ahnrgS_MOFX_",
        "outputId": "6b5424ff-bc21-48ca-b9d0-aafa04f2bb21"
      },
      "outputs": [],
      "source": [
        "evaluate(eval_loader, model)"
      ]
    },
    {
      "cell_type": "code",
      "execution_count": null,
      "metadata": {
        "colab": {
          "base_uri": "https://localhost:8080/",
          "height": 591
        },
        "id": "YeLgw1aFO6Sc",
        "outputId": "a5d9f7b1-e2e5-4f7e-e82e-c6ee7b52095e"
      },
      "outputs": [],
      "source": [
        "plot_predictions(eval_loader, model)"
      ]
    },
    {
      "cell_type": "markdown",
      "metadata": {
        "id": "ZzuVzDnFTi9O"
      },
      "source": [
        "## == Task 1 ==\n",
        "\n",
        "[**Question 1**] Implement a convolutional neural network and reports its learning curve (loss vs training steps) and validation accuracy compared to the MLP baseline we implemented. An *example* of a model you could use is: `CNN(64 kernels, kernel_size=(5, 5), stride=(2, 2), padding=(2, 2)) -> ReLU -> CNN(64 kernels, kernel_size=(5, 5), stride=(2, 2), padding=(2, 2)) -> ReLU -> CNN(64 kernels, kernel_size=(5, 5), stride=(2, 2), padding=(2, 2)) -> ReLU -> Flatten to vector -> Linear(128) -> ReLU -> Linear(10) -> LogSoftmax.`\n",
        "\n",
        "[**Question 2**] Plot validation accuracy vs training dataset size for the CNN and the MLP. The full MNIST training set size is 60k. You can choose any interesting range of dataset sizes. Make sure you actually limit the dataset size: [hint](https://stackoverflow.com/questions/44856691/how-do-you-alter-the-size-of-a-pytorch-dataset).\n",
        "\n",
        "[**Question 3**] Measure the **invariance** of the CNN and MLP predictions to translations of the input image. You can do so by randomly translating the input image (with the limit that the digit is still somewhat within the image) and measuring the change of the predicted probabilities compared to the image of a centered digit. Repeat the same measurement for untrained (randomly initialized) networks. It is ok to perform this and all following experiments with only a few validation images. Discuss the results.\n",
        "\n",
        "[**Question 4**] Add several max pooling or average pooling layers to your convolutional network (you can set convolutional strides to 1 to avoid downsampling too quickly). Does pooling make the network more invariant?\n",
        "\n",
        "[**Question 5**] Remove any stride and max pooling from your network, so that the resolution of your feature map is always 28 * 28 (the original image size). The final prediction layer can first flatten the feature map, or maybe perform average pooling, followed by some fully-connected layers. Measure the translation **equivariance** of any two intermediate feature maps in your convolutional network. You want to translate the input image and see if the feature map (of the same size) translates accordingly. Repeat the same measurement for an untrained (randomly initialized) network."
      ]
    },
    {
      "cell_type": "markdown",
      "metadata": {
        "id": "FlxocaAD9W24"
      },
      "source": [
        "# **=========================== Task1 ===========================**"
      ]
    },
    {
      "cell_type": "markdown",
      "metadata": {
        "id": "k0dEG1xGymNE"
      },
      "source": [
        "[Question 1] Implement a convolutional neural network and reports its learning curve (loss vs training steps) and validation accuracy compared to the MLP baseline we implemented. An example of a model you could use is: \n",
        "CNN(64 kernels, kernel_size=(5, 5), stride=(2, 2), padding=(2, 2)) -> ReLU -> CNN(64 kernels, kernel_size=(5, 5), stride=(2, 2), padding=(2, 2)) -> ReLU -> CNN(64 kernels, kernel_size=(5, 5), stride=(2, 2), padding=(2, 2)) -> ReLU -> Flatten to vector -> Linear(128) -> ReLU -> Linear(10) -> LogSoftmax."
      ]
    },
    {
      "cell_type": "code",
      "execution_count": null,
      "metadata": {
        "id": "pq6LppPqylFy"
      },
      "outputs": [],
      "source": [
        "class CNN(nn.Module):\n",
        "  \"\"\"A Multi Layer Perceptron baseline.\n",
        "  It flattens the input image and applies three fully-connected layers\n",
        "  each followed by an activation.\"\"\"\n",
        "  def __init__(self):\n",
        "    super().__init__()\n",
        "    self.conv1 = nn.Conv2d(1,64,5,2,2)\n",
        "    self.conv2 = nn.Conv2d(64,64,5,2,2)\n",
        "    self.conv3 = nn.Conv2d(64,64,5,2,2)\n",
        "    \n",
        "\n",
        "    self.fc1 = nn.Linear(64*4*4,128)\n",
        "    self.fc2 = nn.Linear(128,10)\n",
        "    # self.fc3 = nn.Linear(128,10)\n",
        "\n",
        "\n",
        "  def forward(self, x: torch.Tensor) -> torch.Tensor:\n",
        "    # x = x.reshape(x.shape[0], -1)\n",
        "    x = F.relu(self.conv1(x))\n",
        "    x = F.relu(self.conv2(x))\n",
        "    x = F.relu(self.conv3(x))\n",
        "    # print(\"x1\",x.shape)\n",
        "    x = torch.flatten(x,1)\n",
        "    x = F.relu(self.fc1(x)) \n",
        "    # x = F.relu(self.fc2(x))\n",
        "    x = F.log_softmax(self.fc2(x),dim = -1)\n",
        "\n",
        "    return x"
      ]
    },
    {
      "cell_type": "code",
      "execution_count": null,
      "metadata": {
        "colab": {
          "base_uri": "https://localhost:8080/",
          "height": 417,
          "referenced_widgets": [
            "6a21e9edf3544e2ba4d8253bcd2d1e7a",
            "259c344ed83541dbbeef18c308491141",
            "27f2cbc82e4a4574b810ca2571ec8c5d",
            "821ad1721d6a41d89e9e8e09b766add8",
            "be65e8ec066a4d32a922ec87dd35d5d8",
            "8d955396d59e4d2288104be3b21c38b7",
            "84698791606e4bf2ad6f46919a038bdc",
            "ae403b81748842aa812ea77b2a0a3b7b",
            "5614898f41ae468ba404d9d4e27f3284",
            "078c83d2943b45ab856a98c6958fcfc7",
            "9028da2ec5964e56ba57461f7ff8ef25",
            "983e0575e57343d79186c9164e9db32a",
            "e1b7692402884ab48876305b24c038e6",
            "45381f954eaa46a59be5fb226dd9ccaa",
            "43f2c597031e4691acdd382a76de7479",
            "b5cd78f35a3e45d9a2c6c128d2615192",
            "c6166a5a3fd340929ade411a93b9ad00",
            "233e6ea981f945b78c1f2b3b17e7bed5",
            "878d8b5ea3624f84adb249417849c042",
            "200038f37117410392709e60a2739bcc",
            "e98ab79039ef40208e70d0394f90f138",
            "ab5185eefe0646eab18181d66b25ecd6",
            "59a77b0488364d2bbfb6baaafd58597a",
            "819bd9495ed541969cdc19534fca59d3",
            "402ca17415314d57bf31c4735c12d7c1",
            "952f345eafeb4a03b33092889041c624",
            "89bd3e22d44c40be81ca121d507d570a",
            "c6a013506f2e4634b600027144d74144",
            "e1c95580f182467d9d75db0b9e8ccf81",
            "0965094cefa2432aa9775ad95949ae5b",
            "2c02da96fa984399abc9c76cacd63071",
            "be49422827b14dfabb50ac086f34c644",
            "1f4e9d90d9ca4559934b568bfb059a8a",
            "e9848a52505b47bba60bffe64046da80",
            "70019b70c6a04dc4b8fd4b95511a7cce",
            "1bc2400c7cd4472fbc07870295a043a9",
            "8daa78ff0aea45f380f9072dc8335a7c",
            "266f7c3c286c4f5d9225327ad758044b",
            "e8ec3f05f7b341b3859c0b970051fba8",
            "12c2eb6b9f44424eb213f1308ed731fd",
            "829698792cd140ee8adcde42d22bb750",
            "d31804196b604cd9be56e348044a9183",
            "0d25c847472c4fa5815e2c3d6bf53996",
            "a67bede1e59041369b44fb8ca4290f38"
          ]
        },
        "id": "Kl9D-sNfrKk9",
        "outputId": "dac31a78-0dba-491c-f70d-d241dbd0a89f"
      },
      "outputs": [],
      "source": [
        "t = transforms.ToTensor()\n",
        "tr = datasets.MNIST('../data', train=True, download=True, transform=t)\n",
        "te = datasets.MNIST('../data', train=False, transform=t)"
      ]
    },
    {
      "cell_type": "code",
      "execution_count": null,
      "metadata": {
        "id": "S0DMB4X-ElY9"
      },
      "outputs": [],
      "source": [
        "def createList(r1, r2):\n",
        "    return [item for item in range(r1, r2+1) if item%1000==0]\n",
        "split_list = createList(500,30000)\n"
      ]
    },
    {
      "cell_type": "code",
      "execution_count": null,
      "metadata": {
        "id": "FbUy-hitqlQO"
      },
      "outputs": [],
      "source": [
        "# tr_split_len = 10000\n",
        "# te_split_len = 1000\n",
        "acclistMLP = []\n",
        "acclistCNN = []\n",
        "\n",
        "for split_len in split_list:\n",
        "  part_tr = torch.utils.data.random_split(tr, [split_len, len(tr)-split_len])[0]\n",
        "  part_te = torch.utils.data.random_split(te, [split_len, len(te)-split_len])[0]\n",
        "\n",
        "  train_set = DataLoader(part_tr, batch_size=128, shuffle=True, num_workers=2)\n",
        "  eval_set = DataLoader(part_te, batch_size=128, shuffle=True, num_workers=1)\n",
        "\n",
        "  modelMLP = MLPBaseline().to(device)\n",
        "  optimizer = optim.Adam(modelMLP.parameters(), lr=0.001)\n",
        "  # lossMLP = train(train_loader, modelMLP, optimizer, 5)\n",
        "  lossMLP = train(train_set, modelMLP, optimizer, 5)\n",
        "\n",
        "  modelCNN = CNN().to(device)\n",
        "  optimizer = optim.Adam(modelCNN.parameters(), lr=0.001)\n",
        "  # lossCNN = train(train_loader, modelCNN, optimizer, 5)\n",
        "  lossCNN = train(train_set, modelCNN, optimizer, 5)\n",
        "\n",
        "  acclistMLP.append(evaluate(eval_set, modelMLP))\n",
        "  acclistCNN.append(evaluate(eval_set, modelCNN))\n",
        "\n",
        "\n",
        "plt.plot(split_list,acclistMLP)\n",
        "plt.plot(split_list,acclistCNN)\n",
        "plt.xlabel(\"Training dataset len\")\n",
        "plt.ylabel(\"Validation Accuracy\")"
      ]
    },
    {
      "cell_type": "code",
      "execution_count": null,
      "metadata": {
        "colab": {
          "base_uri": "https://localhost:8080/",
          "height": 623
        },
        "id": "6CqTc6efFqjk",
        "outputId": "402800fc-2f73-4f30-d7a3-e0d532a1ab10"
      },
      "outputs": [],
      "source": [
        "plt.figure(figsize=(10, 10))\n",
        "plt.plot(split_list,acclistMLP,label=\"MLP\")\n",
        "plt.plot(split_list,acclistCNN,label=\"CNN\")\n",
        "plt.legend(loc=\"upper left\")\n",
        "plt.xlabel(\"Training dataset size\")\n",
        "plt.ylabel(\"Validation Accuracy\")"
      ]
    },
    {
      "cell_type": "code",
      "execution_count": null,
      "metadata": {
        "id": "2L86hU35RT33"
      },
      "outputs": [],
      "source": [
        "modelMLP = MLPBaseline().to(device)\n",
        "optimizer = optim.Adam(modelMLP.parameters(), lr=0.001)\n",
        "# lossMLP = train(train_loader, modelMLP, optimizer, 5)\n",
        "lossMLP = train(train_loader, modelMLP, optimizer, 5)\n",
        "\n",
        "modelCNN = CNN().to(device)\n",
        "optimizer = optim.Adam(modelCNN.parameters(), lr=0.001)\n",
        "# lossCNN = train(train_loader, modelCNN, optimizer, 5)\n",
        "lossCNN = train(train_loader, modelCNN, optimizer, 5)"
      ]
    },
    {
      "cell_type": "code",
      "execution_count": null,
      "metadata": {
        "colab": {
          "base_uri": "https://localhost:8080/",
          "height": 623
        },
        "id": "ERpYKkIZRbjR",
        "outputId": "24a08816-dd85-4962-8ded-6be0d7cc62d7"
      },
      "outputs": [],
      "source": [
        "plt.figure(figsize=(10, 10))\n",
        "plt.plot(lossCNN, label=\"CNN\")\n",
        "plt.plot(lossMLP, label=\"MLPBaseline\")\n",
        "plt.legend(loc=\"upper right\")\n",
        "plt.xlabel(\"Training step\")\n",
        "plt.ylabel(\"Loss\")"
      ]
    },
    {
      "cell_type": "code",
      "execution_count": null,
      "metadata": {
        "id": "sXG8kLOyG-Cx"
      },
      "outputs": [],
      "source": []
    },
    {
      "cell_type": "code",
      "execution_count": null,
      "metadata": {
        "colab": {
          "base_uri": "https://localhost:8080/",
          "height": 300
        },
        "id": "M6Z3AB71IeJ2",
        "outputId": "f14e7be0-a3a3-4148-be8d-96b9a93e7efa"
      },
      "outputs": [],
      "source": [
        "evaluate(eval_loader, modelMLP)\n",
        "evaluate(eval_loader, modelCNN)"
      ]
    },
    {
      "cell_type": "markdown",
      "metadata": {
        "id": "od_8sATakMsT"
      },
      "source": [
        "[Question 3] Measure the invariance of the CNN and MLP predictions to translations of the input image. You can do so by randomly translating the input image (with the limit that the digit is still somewhat within the image) and measuring the change of the predicted probabilities compared to the image of a centered digit. Repeat the same measurement for untrained (randomly initialized) networks. It is ok to perform this and all following experiments with only a few validation images. Discuss the results."
      ]
    },
    {
      "cell_type": "code",
      "execution_count": null,
      "metadata": {
        "id": "L9ejImBfkQrn"
      },
      "outputs": [],
      "source": [
        "import random\n",
        "transl = [-5, -2, 0, 2, 5]\n",
        "train_ds_trans = torch.unsqueeze(translate(train_ds[i][0], -1, -3), 0)\n",
        "for i in range(10):\n",
        "  x_trans = random.randint(0, 4)\n",
        "  y_trans = random.randint(0, 4)\n",
        "  new = torch.unsqueeze(translate(train_ds[i][0], transl[x_trans], transl[y_trans]),0)\n",
        "  train_ds_trans = torch.cat([train_ds_trans,new],0)\n"
      ]
    },
    {
      "cell_type": "code",
      "execution_count": null,
      "metadata": {
        "colab": {
          "base_uri": "https://localhost:8080/",
          "height": 591
        },
        "id": "LGQ-bPtnvoYk",
        "outputId": "7effcf68-2e49-47a8-f66a-80d5b38c271b"
      },
      "outputs": [],
      "source": [
        "train_loader, eval_loader = prepare_mnist(128)\n",
        "example = next(iter(train_loader))\n",
        "plt.figure(figsize=(10, 10))\n",
        "for i in range(5*5):\n",
        "  plt.subplot(5, 5, 1 + i)\n",
        "  plt.title(\"Label: {:d}\".format(example[1][i]))\n",
        "  plt.imshow(example[0][i][0])\n",
        "  plt.axis(\"off\")"
      ]
    },
    {
      "cell_type": "code",
      "execution_count": null,
      "metadata": {
        "colab": {
          "base_uri": "https://localhost:8080/",
          "height": 592
        },
        "id": "ntmEQ5snvZDk",
        "outputId": "0bf0fa38-1210-4c2c-88e9-17dbad066523"
      },
      "outputs": [],
      "source": [
        "img = example[0][13]\n",
        "translated_image_eight = torch.unsqueeze(img, 0)\n",
        "transl = [-3, -2, 0, 2, 3]\n",
        "print(\"Translate by {}.\".format(transl))\n",
        "plt.figure(figsize=(10, 10))\n",
        "for i in range(5):\n",
        "  for j in range(5):\n",
        "    tmp = torch.unsqueeze(translate(img, transl[i], transl[j]),0)\n",
        "    translated_image_eight = torch.cat([translated_image_eight,tmp],0)\n",
        "    plt.subplot(5, 5, 1 + j + i * 5)\n",
        "    plt.imshow(tmp[0][0])\n",
        "    plt.axis(\"off\")"
      ]
    },
    {
      "cell_type": "code",
      "execution_count": null,
      "metadata": {
        "id": "tENsdaKgvZAM"
      },
      "outputs": [],
      "source": []
    },
    {
      "cell_type": "code",
      "execution_count": null,
      "metadata": {
        "colab": {
          "base_uri": "https://localhost:8080/"
        },
        "id": "54TSSdZTvY9B",
        "outputId": "61079705-d5e1-4b00-dfd9-bf09c00e8aed"
      },
      "outputs": [],
      "source": [
        "translated_image_eight_temp = torch.unsqueeze(translated_image_eight,0)\n",
        "eval_loader = DataLoader(translated_image_eight_temp, batch_size=12, shuffle=False, num_workers=1)\n",
        "\n",
        "accuracyMLP = []\n",
        "accuracyCNN = []\n",
        "accuracyCNNwithMaxPooling = []\n",
        "labels = 4\n",
        "for batch in eval_loader:\n",
        "  inputs = batch[0].to(device)\n",
        "  print(inputs.shape)\n",
        "  outputs = modelMLP(inputs)\n",
        "  pred_labels = torch.argmax(outputs, dim=-1)\n",
        "  tmp = (labels == pred_labels).float().mean()\n",
        "  accuracyMLP.append(tmp.item())\n",
        "  outputs = modelCNN(inputs)\n",
        "  pred_labels = torch.argmax(outputs, dim=-1)\n",
        "  tmp = (labels == pred_labels).float().mean()\n",
        "  accuracyCNN.append(tmp.item())\n",
        "  outputs = modelCNNwithMaxPooling(inputs)\n",
        "  pred_labels = torch.argmax(outputs, dim=-1)\n",
        "  tmp = (labels == pred_labels).float().mean()\n",
        "  accuracyCNNwithMaxPooling.append(tmp.item())\n",
        "\n",
        "# We compute the mean of means over batches.\n",
        "# This could be slightly skewed if the last batch is smaller.\n",
        "# Does not matter too much here.\n",
        "accuracyMLP = np.mean(accuracyMLP)\n",
        "accuracyCNN = np.mean(accuracyCNN)\n",
        "accuracyCNNwithMaxPooling = np.mean(accuracyCNNwithMaxPooling)\n",
        "\n",
        "print(\"Correct answer in {:.1f}% of cases by using MLP network.\".format(accuracyMLP * 100))\n",
        "print(\"Correct answer in {:.1f}% of cases by using CNN network.\".format(accuracyCNN * 100))\n",
        "print(\"Correct answer in {:.1f}% of cases by using CNN network with max pooling.\".format(accuracyCNNwithMaxPooling * 100))\n",
        "# evaluate(eval_loader, modelCNN)"
      ]
    },
    {
      "cell_type": "code",
      "execution_count": null,
      "metadata": {
        "id": "C2ifo5-svY2d"
      },
      "outputs": [],
      "source": [
        "modelMLPuntrained = MLPBaseline().to(device)\n",
        "# optimizer = optim.Adam(modelMLPuntrained.parameters(), lr=0.001)\n",
        "# lossMLP = train(train_10k, modelMLPuntrained, optimizer, 5)\n",
        "\n",
        "modelCNNuntrained = CNN().to(device)\n",
        "# optimizer = optim.Adam(modelCNNuntrained.parameters(), lr=0.001)\n",
        "# lossCNN = train(train_10k, modelCNNuntrained, optimizer, 5)"
      ]
    },
    {
      "cell_type": "code",
      "execution_count": null,
      "metadata": {
        "colab": {
          "base_uri": "https://localhost:8080/"
        },
        "id": "MogOpEvLvYYr",
        "outputId": "2a1157db-71c0-487f-db14-e41ffb5bf662"
      },
      "outputs": [],
      "source": [
        "accuracyMLP = []\n",
        "accuracyCNN = []\n",
        "labels = 8\n",
        "for batch in eval_loader:\n",
        "  inputs = batch[0].to(device)\n",
        "  print(inputs.shape)\n",
        "  outputs = modelMLPuntrained(inputs)\n",
        "  pred_labels = torch.argmax(outputs, dim=-1)\n",
        "  tmp = (labels == pred_labels).float().mean()\n",
        "  accuracyMLP.append(tmp.item())\n",
        "  outputs = modelCNNuntrained(inputs)\n",
        "  pred_labels = torch.argmax(outputs, dim=-1)\n",
        "  tmp = (labels == pred_labels).float().mean()\n",
        "  accuracyCNN.append(tmp.item())\n",
        "\n",
        "# We compute the mean of means over batches.\n",
        "# This could be slightly skewed if the last batch is smaller.\n",
        "# Does not matter too much here.\n",
        "accuracyMLP = np.mean(accuracyMLP)\n",
        "accuracyCNN = np.mean(accuracyCNN)\n",
        "print(\"Correct answer in {:.1f}% of cases by using untrained MLP network.\".format(accuracyMLP * 100))\n",
        "print(\"Correct answer in {:.1f}% of cases by using untrained CNN network.\".format(accuracyCNN * 100))"
      ]
    },
    {
      "cell_type": "markdown",
      "metadata": {
        "id": "f5Z_31yNtYVa"
      },
      "source": [
        "[Question 4] Add several max pooling or average pooling layers to your convolutional network (you can set convolutional strides to 1 to avoid downsampling too quickly). Does pooling make the network more invariant?"
      ]
    },
    {
      "cell_type": "code",
      "execution_count": null,
      "metadata": {
        "id": "wI9rsNWHtX9M"
      },
      "outputs": [],
      "source": [
        "class CNNwithMaxPooling(nn.Module):\n",
        "  \"\"\"A Multi Layer Perceptron baseline.\n",
        "  It flattens the input image and applies three fully-connected layers\n",
        "  each followed by an activation.\"\"\"\n",
        "  def __init__(self):\n",
        "    super().__init__()\n",
        "    self.conv1 = nn.Conv2d(1,64,5,1,2)\n",
        "    self.pool1 = nn.MaxPool2d(2,2)\n",
        "    self.conv2 = nn.Conv2d(64,64,5,1,2)\n",
        "    self.pool2 = nn.MaxPool2d(2,2)\n",
        "    self.conv3 = nn.Conv2d(64,64,5,1,2)\n",
        "    self.pool3 = nn.MaxPool2d(2,2)\n",
        "    self.fc1 = nn.Linear(64*3*3,128)\n",
        "    self.fc2 = nn.Linear(128,10)\n",
        "    # self.fc3 = nn.Linear(128,10)\n",
        "\n",
        "\n",
        "  def forward(self, x: torch.Tensor) -> torch.Tensor:\n",
        "    # x = x.reshape(x.shape[0], -1)\n",
        "    x = F.relu(self.conv1(x))\n",
        "    x = self.pool1(x)\n",
        "    x = F.relu(self.conv2(x))\n",
        "    x = self.pool2(x)\n",
        "    x = F.relu(self.conv3(x))\n",
        "    x = self.pool3(x)\n",
        "    # print(\"x1\",x.shape)\n",
        "    x = torch.flatten(x,1)\n",
        "    x = F.relu(self.fc1(x)) \n",
        "    # x = F.relu(self.fc2(x))\n",
        "    x = F.log_softmax(self.fc2(x),dim = -1)\n",
        "\n",
        "    return x\n"
      ]
    },
    {
      "cell_type": "code",
      "execution_count": null,
      "metadata": {
        "id": "umZF8rSzvKcP"
      },
      "outputs": [],
      "source": [
        "modelCNNwithMaxPooling = CNNwithMaxPooling().to(device)\n",
        "optimizer = optim.Adam(modelCNNwithMaxPooling.parameters(), lr=0.001)\n",
        "# lossCNN = train(train_loader, modelCNN, optimizer, 5)\n",
        "lossmodelCNNwithMaxPooling = train(train_loader, modelCNNwithMaxPooling, optimizer, 5)"
      ]
    },
    {
      "cell_type": "code",
      "execution_count": null,
      "metadata": {
        "colab": {
          "base_uri": "https://localhost:8080/",
          "height": 623
        },
        "id": "g6RQB-8dvWvX",
        "outputId": "2aadd69d-e005-4a51-8591-42152a314ea2"
      },
      "outputs": [],
      "source": [
        "plt.figure(figsize=(10, 10))\n",
        "plt.plot(lossCNN, label=\"CNN\")\n",
        "plt.plot(lossmodelCNNwithMaxPooling, label=\"CNN with MaxPooling\")\n",
        "plt.plot(lossMLP, label=\"MLPBaseline\")\n",
        "\n",
        "plt.legend(loc=\"upper right\")\n",
        "plt.xlabel(\"Training step\")\n",
        "plt.ylabel(\"Loss\")"
      ]
    },
    {
      "cell_type": "code",
      "execution_count": null,
      "metadata": {
        "colab": {
          "base_uri": "https://localhost:8080/"
        },
        "id": "Zc7c4ZEovm8_",
        "outputId": "e9a2b061-d9b3-4ffd-8a49-49e24ac04065"
      },
      "outputs": [],
      "source": [
        "# t = transforms.ToTensor()\n",
        "# eval_ds = datasets.MNIST(\"/tmp/mnist\", download=True, train=False, transform=t)\n",
        "# eval_loader = DataLoader(eval_ds, batch_size=128, shuffle=False, num_workers=1)\n",
        "accuracyMLP = []\n",
        "accuracyCNN = []\n",
        "accuracyCNNwithMaxPooling = []\n",
        "labels = 5\n",
        "for batch in eval_loader:\n",
        "  inputs = batch[0].to(device)\n",
        "  print(inputs.shape)\n",
        "  outputs = modelMLP(inputs)\n",
        "  pred_labels = torch.argmax(outputs, dim=-1)\n",
        "  tmp = (labels == pred_labels).float().mean()\n",
        "  accuracyMLP.append(tmp.item())\n",
        "  outputs = modelCNN(inputs)\n",
        "  pred_labels = torch.argmax(outputs, dim=-1)\n",
        "  tmp = (labels == pred_labels).float().mean()\n",
        "  accuracyCNN.append(tmp.item())\n",
        "  outputs = modelCNNwithMaxPooling(inputs)\n",
        "  pred_labels = torch.argmax(outputs, dim=-1)\n",
        "  tmp = (labels == pred_labels).float().mean()\n",
        "  accuracyCNNwithMaxPooling.append(tmp.item())\n",
        "\n",
        "# We compute the mean of means over batches.\n",
        "# This could be slightly skewed if the last batch is smaller.\n",
        "# Does not matter too much here.\n",
        "accuracyMLP = np.mean(accuracyMLP)\n",
        "accuracyCNN = np.mean(accuracyCNN)\n",
        "accuracyCNNwithMaxPooling = np.mean(accuracyCNNwithMaxPooling)\n",
        "\n",
        "print(\"Correct answer in {:.1f}% of cases by using MLP network.\".format(accuracyMLP * 100))\n",
        "print(\"Correct answer in {:.1f}% of cases by using CNN network.\".format(accuracyCNN * 100))\n",
        "print(\"Correct answer in {:.1f}% of cases by using CNN network with max pooling.\".format(accuracyCNNwithMaxPooling * 100))\n",
        "# evaluate(eval_loader, modelCNN)"
      ]
    },
    {
      "cell_type": "markdown",
      "metadata": {
        "id": "8-PyeyAcwLVi"
      },
      "source": [
        "[Question 5] Remove any stride and max pooling from your network, so that the resolution of your feature map is always 28 * 28 (the original image size). The final prediction layer can first flatten the feature map, or maybe perform average pooling, followed by some fully-connected layers. Measure the translation equivariance of any two intermediate feature maps in your convolutional network. You want to translate the input image and see if the feature map (of the same size) translates accordingly. Repeat the same measurement for an untrained (randomly initialized) network."
      ]
    },
    {
      "cell_type": "code",
      "execution_count": null,
      "metadata": {
        "id": "VVbIQXgxwKrA"
      },
      "outputs": [],
      "source": [
        "class CNNnoStridePooling(nn.Module):\n",
        "  \"\"\"A Multi Layer Perceptron baseline.\n",
        "  It flattens the input image and applies three fully-connected layers\n",
        "  each followed by an activation.\"\"\"\n",
        "  def __init__(self):\n",
        "    super().__init__()\n",
        "    self.conv1 = nn.Conv2d(1,64,5,1,2)\n",
        "    self.conv2 = nn.Conv2d(64,64,5,1,2)\n",
        "    self.conv3 = nn.Conv2d(64,64,5,1,2)\n",
        "    self.fc1 = nn.Linear(64*28*28,128)\n",
        "    self.fc2 = nn.Linear(128,10)\n",
        "    self.fm1 = None\n",
        "    self.fm2 = None\n",
        "    self.fm3 = None\n",
        "    \n",
        "\n",
        "\n",
        "  def forward(self, x: torch.Tensor) -> torch.Tensor:\n",
        "    # x = x.reshape(x.shape[0], -1)\n",
        "    x = F.relu(self.conv1(x))\n",
        "    self.fm1 = x\n",
        "    x = F.relu(self.conv2(x))\n",
        "    self.fm2 = x\n",
        "    x = F.relu(self.conv3(x))\n",
        "    self.fm3 = x\n",
        "    # print(\"x1\",x.shape)\n",
        "    x = torch.flatten(x,1)\n",
        "    x = F.relu(self.fc1(x)) \n",
        "    # x = F.relu(self.fc2(x))\n",
        "    x = F.log_softmax(self.fc2(x),dim = -1)\n",
        "\n",
        "    return x\n"
      ]
    },
    {
      "cell_type": "code",
      "execution_count": null,
      "metadata": {
        "id": "aDSG5j9CXpWh"
      },
      "outputs": [],
      "source": [
        "modelCNNnoStridePooling = CNNnoStridePooling().to(device)\n",
        "# optimizer = optim.Adam(modelCNNnoStridePooling.parameters(), lr=0.001)\n",
        "# # lossCNN = train(train_loader, modelCNN, optimizer, 5)\n",
        "# lossmodelCNNnoStridePooling = train(train_loader, modelCNNnoStridePooling, optimizer, 5)\n"
      ]
    },
    {
      "cell_type": "code",
      "execution_count": null,
      "metadata": {
        "id": "gF9xcbfnlc-c"
      },
      "outputs": [],
      "source": [
        "plt.imshow(modelCNNnoStridePooling.fm2.cpu().detach().numpy()[2][0])"
      ]
    },
    {
      "cell_type": "code",
      "execution_count": null,
      "metadata": {
        "colab": {
          "base_uri": "https://localhost:8080/",
          "height": 592
        },
        "id": "6SWkq2oxshp6",
        "outputId": "473a6aad-2394-4a6e-d0cf-896d45e7973f"
      },
      "outputs": [],
      "source": [
        "img = example[0][0]\n",
        "translated_image_eight = torch.unsqueeze(img, 0)\n",
        "transl = [-3, -2, 0, 2, 3]\n",
        "print(\"Translate by {}.\".format(transl))\n",
        "plt.figure(figsize=(10, 10))\n",
        "for i in range(5):\n",
        "  for j in range(5):\n",
        "    tmp = torch.unsqueeze(translate(img, transl[i], transl[j]),0)\n",
        "    translated_image_eight = torch.cat([translated_image_eight,tmp],0)\n",
        "    plt.subplot(5, 5, 1 + j + i * 5)\n",
        "    plt.imshow(tmp[0][0])\n",
        "    plt.axis(\"off\")"
      ]
    },
    {
      "cell_type": "code",
      "execution_count": null,
      "metadata": {
        "colab": {
          "base_uri": "https://localhost:8080/"
        },
        "id": "khATFWNaspSf",
        "outputId": "3656300d-3f9c-47e1-e94e-57f15209e52c"
      },
      "outputs": [],
      "source": [
        "eval_loader"
      ]
    },
    {
      "cell_type": "code",
      "execution_count": null,
      "metadata": {
        "colab": {
          "base_uri": "https://localhost:8080/",
          "height": 575
        },
        "id": "zH2kqCnGYasx",
        "outputId": "34260516-7a38-4a6b-c83d-b2b1f8814a43"
      },
      "outputs": [],
      "source": [
        "translated_image_eight_temp = torch.unsqueeze(translated_image_eight,0)\n",
        "eval_loader = DataLoader(translated_image_eight_temp, batch_size=1, shuffle=False, num_workers=1)\n",
        "\n",
        "accuracyMLP = []\n",
        "accuracyCNN = []\n",
        "accuracyCNNwithMaxPooling = []\n",
        "accuracyCNNnoStridePooling = []\n",
        "labels = 3\n",
        "plt.figure(figsize=(10, 10))\n",
        "i = 0\n",
        "j = 0\n",
        "count = -25\n",
        "for batch in eval_loader:\n",
        "  inputs = batch[0].to(device)\n",
        "  for i in range(25):\n",
        "    i = i+1\n",
        "    if i % 5==5:\n",
        "      j = j+1\n",
        "      i = 0\n",
        "    outputs = modelCNNnoStridePooling(inputs)\n",
        "    pred_labels = torch.argmax(outputs, dim=-1)\n",
        "    tmp = (labels == pred_labels).float().mean()\n",
        "    plt.subplot(5, 5, i + j * 5)\n",
        "    plt.imshow(modelCNNnoStridePooling.fm1.cpu().detach().numpy()[count][10])\n",
        "    plt.axis(\"off\")\n",
        "    count = count + 1"
      ]
    },
    {
      "cell_type": "code",
      "execution_count": null,
      "metadata": {
        "colab": {
          "base_uri": "https://localhost:8080/",
          "height": 575
        },
        "id": "8byg2M7L5LL7",
        "outputId": "8558256d-5a69-45af-cb39-4e814d93f4eb"
      },
      "outputs": [],
      "source": [
        "labels = 3\n",
        "plt.figure(figsize=(10, 10))\n",
        "i = 0\n",
        "j = 0\n",
        "count = -25\n",
        "for batch in eval_loader:\n",
        "  inputs = batch[0].to(device)\n",
        "  for i in range(25):\n",
        "    i = i+1\n",
        "    if i % 5==5:\n",
        "      j = j+1\n",
        "      i = 0\n",
        "    outputs = modelCNNnoStridePooling(inputs)\n",
        "    pred_labels = torch.argmax(outputs, dim=-1)\n",
        "    tmp = (labels == pred_labels).float().mean()\n",
        "    plt.subplot(5, 5, i + j * 5)\n",
        "    plt.imshow(modelCNNnoStridePooling.fm2.cpu().detach().numpy()[count][10])\n",
        "    plt.axis(\"off\")\n",
        "    count = count + 1"
      ]
    },
    {
      "cell_type": "code",
      "execution_count": null,
      "metadata": {
        "colab": {
          "base_uri": "https://localhost:8080/",
          "height": 575
        },
        "id": "4JQDQrrc6GEK",
        "outputId": "a9d5d29d-2fcd-4a98-a8d7-83fad0168ef4"
      },
      "outputs": [],
      "source": [
        "labels = 3\n",
        "plt.figure(figsize=(10, 10))\n",
        "i = 0\n",
        "j = 0\n",
        "count = -25\n",
        "for batch in eval_loader:\n",
        "  inputs = batch[0].to(device)\n",
        "  for i in range(25):\n",
        "    i = i+1\n",
        "    if i % 5==5:\n",
        "      j = j+1\n",
        "      i = 0\n",
        "    outputs = modelCNNnoStridePooling(inputs)\n",
        "    pred_labels = torch.argmax(outputs, dim=-1)\n",
        "    tmp = (labels == pred_labels).float().mean()\n",
        "    plt.subplot(5, 5, i + j * 5)\n",
        "    plt.imshow(modelCNNnoStridePooling.fm3.cpu().detach().numpy()[count][10])\n",
        "    plt.axis(\"off\")\n",
        "    count = count + 1"
      ]
    },
    {
      "cell_type": "code",
      "execution_count": null,
      "metadata": {
        "colab": {
          "base_uri": "https://localhost:8080/",
          "height": 282
        },
        "id": "2dQG6GVpB2gE",
        "outputId": "8e329967-cd59-4e48-eeef-3668eaa9af1a"
      },
      "outputs": [],
      "source": [
        "# plt.imshow(modelCNNnoStridePooling.fm1.cpu().detach().numpy()[-8][10])\n",
        "# conv(T*Img)\n",
        "img_fm1 = modelCNNnoStridePooling.fm1.cpu().detach().numpy()[-13][10]\n",
        "img_fm2 = modelCNNnoStridePooling.fm2.cpu().detach().numpy()[-13][10]\n",
        "img_fm3 = modelCNNnoStridePooling.fm3.cpu().detach().numpy()[-13][10]\n",
        "plt.imshow(img_fm1)\n",
        "# tmp = torch.unsqueeze(translate(img, transl[i], transl[j]),0)\n",
        "# translated_image_eight = torch.cat([translated_image_eight,tmp],0)\n",
        "# plt.subplot(5, 5, 1 + j + i * 5)\n",
        "# plt.imshow(tmp[0][0])"
      ]
    },
    {
      "cell_type": "code",
      "execution_count": null,
      "metadata": {
        "colab": {
          "base_uri": "https://localhost:8080/",
          "height": 282
        },
        "id": "NWfZUIGGFGKL",
        "outputId": "1847e188-0a68-407a-8be8-0fb503764284"
      },
      "outputs": [],
      "source": [
        "img_t_fm1 = modelCNNnoStridePooling.fm1.cpu().detach().numpy()[-1][10]\n",
        "img_t_fm2 = modelCNNnoStridePooling.fm2.cpu().detach().numpy()[-1][10]\n",
        "img_t_fm3 = modelCNNnoStridePooling.fm3.cpu().detach().numpy()[-1][10]\n",
        "\n",
        "# T^-1*[conv(T*Img)]\n",
        "img_t_fm1_t_ = translate(img_t_fm1, -3, -3)\n",
        "img_t_fm2_t_ = translate(img_t_fm2, -3, -3)\n",
        "img_t_fm3_t_ = translate(img_t_fm3, -3, -3)\n",
        "plt.imshow(img_t_fm1_t_)"
      ]
    },
    {
      "cell_type": "code",
      "execution_count": null,
      "metadata": {
        "id": "5ZHjKK9YHe9R"
      },
      "outputs": [],
      "source": [
        "\n",
        "from scipy.linalg import norm\n",
        "from scipy import sum, average\n",
        "def normalize(arr):\n",
        "    rng = arr.max()-arr.min()\n",
        "    amin = arr.min()\n",
        "    return (arr-amin)*255/rng\n",
        "def compare_images(img1, img2):\n",
        "    # normalize to compensate for exposure difference, this may be unnecessary\n",
        "    # consider disabling it\n",
        "    img1 = normalize(img1)\n",
        "    img2 = normalize(img2)\n",
        "    # calculate the difference and its norms\n",
        "    diff = img1 - img2  # elementwise for scipy arrays\n",
        "    m_norm = sum(abs(diff))  # Manhattan norm\n",
        "    z_norm = norm(diff.ravel(), 0)  # Zero norm\n",
        "    return (m_norm, z_norm)"
      ]
    },
    {
      "cell_type": "code",
      "execution_count": null,
      "metadata": {
        "colab": {
          "base_uri": "https://localhost:8080/"
        },
        "id": "UaqCOwr4HtcB",
        "outputId": "eefdbb70-52c9-4352-8caa-83a8336e54a0"
      },
      "outputs": [],
      "source": [
        "compare_images(img_t_fm3_t_,img_fm3)"
      ]
    },
    {
      "cell_type": "code",
      "execution_count": null,
      "metadata": {
        "colab": {
          "base_uri": "https://localhost:8080/",
          "height": 282
        },
        "id": "7l3NGlbsCTSg",
        "outputId": "4d0b1e56-f2e4-4552-f843-31d7109aecbb"
      },
      "outputs": [],
      "source": [
        "img\n",
        "img_t = translate(img, 2, 3)\n",
        "plt.imshow(img_t[0])"
      ]
    },
    {
      "cell_type": "code",
      "execution_count": null,
      "metadata": {
        "id": "HZP72s5aajIi"
      },
      "outputs": [],
      "source": [
        "modelMLPuntrained = MLPBaseline().to(device)\n",
        "\n",
        "modelCNNuntrained = CNN().to(device)\n",
        "\n",
        "modelCNNnoSPuntrained = CNNnoStridePooling().to(device)"
      ]
    },
    {
      "cell_type": "code",
      "execution_count": null,
      "metadata": {
        "colab": {
          "base_uri": "https://localhost:8080/"
        },
        "id": "OjUhySwla3L_",
        "outputId": "bfd77d6c-ef39-4dcf-e6ca-8952c26d8f92"
      },
      "outputs": [],
      "source": [
        "accuracyMLP = []\n",
        "accuracyCNN = []\n",
        "accuracyCNNnoStridePooling = []\n",
        "labels = 5\n",
        "for batch in eval_loader:\n",
        "  inputs = batch[0].to(device)\n",
        "\n",
        "  outputs = modelMLPuntrained(inputs)\n",
        "  pred_labels = torch.argmax(outputs, dim=-1)\n",
        "  tmp = (labels == pred_labels).float().mean()\n",
        "  accuracyMLP.append(tmp.item())\n",
        "\n",
        "  outputs = modelCNNuntrained(inputs)\n",
        "  pred_labels = torch.argmax(outputs, dim=-1)\n",
        "  tmp = (labels == pred_labels).float().mean()\n",
        "  accuracyCNN.append(tmp.item())\n",
        "\n",
        "  outputs = modelCNNnoSPuntrained(inputs)\n",
        "  pred_labels = torch.argmax(outputs, dim=-1)\n",
        "  tmp = (labels == pred_labels).float().mean()\n",
        "  accuracyCNNnoStridePooling.append(tmp.item())\n",
        "\n",
        "# We compute the mean of means over batches.\n",
        "# This could be slightly skewed if the last batch is smaller.\n",
        "# Does not matter too much here.\n",
        "accuracyMLP = np.mean(accuracyMLP)\n",
        "accuracyCNN = np.mean(accuracyCNN)\n",
        "accuracyCNNnoStridePooling = np.mean(accuracyCNNnoStridePooling)\n",
        "print(\"Correct answer in {:.1f}% of cases by using untrained MLP network.\".format(accuracyMLP * 100))\n",
        "print(\"Correct answer in {:.1f}% of cases by using untrained CNN network.\".format(accuracyCNN * 100))\n",
        "print(\"Correct answer in {:.1f}% of cases by using untrained CNN network without stride and maxpolling.\".format(accuracyCNNnoStridePooling * 100))\n",
        "\n"
      ]
    },
    {
      "cell_type": "markdown",
      "metadata": {
        "id": "ZKdOXPJHwb8g"
      },
      "source": [
        "# Part 2: Training a Graph Convolutional Network on a citation graph dataset"
      ]
    },
    {
      "cell_type": "markdown",
      "metadata": {
        "id": "GqOGj8gfVpzZ"
      },
      "source": [
        "We will be training a [Graph Convolutional Network](https://arxiv.org/abs/1609.02907), perhaps the most used graph neural network model, on a dataset of citations. The neural network will learn to classify an academic paper into several categories based on its references (edges in a graph) and other features. As the story goes, the GNC paper was developed and written in three weeks. You only have two."
      ]
    },
    {
      "cell_type": "markdown",
      "metadata": {
        "id": "rsHgIDZGTyz2"
      },
      "source": [
        "## Downloading a dataset and preprocesing data"
      ]
    },
    {
      "cell_type": "markdown",
      "metadata": {
        "id": "-8Q5RkiMV91t"
      },
      "source": [
        "Cora was an ancient proof-of-concept search engine for computer science papers [1]. It is also the name of a citation graph dataset [2, 3]. The dataset contains papers as nodes and references between papers as edges. Each paper is represented as a binary vector with 1433 bits. Each bit encodes the presence or absence of a certain word in the paper (bag of words). Bonus points if you can find what specific words these bits encode ... I couldn't. Papers are sorted into seven classes, which I believe correspond to major categories in CS: AI, Hardware, Security, etc. But, most papers don't have a label. Our goal is to learn to classify papers based on their bag of words feature vectors, their neighbors and their training class. Then, we should be able to generalize to other papers, which are labeled for the prupose of validation.\n",
        "\n",
        "[1] http://www.kamalnigam.com/papers/cora-aaaiss99.pdf\n",
        "\n",
        "[2] https://relational.fit.cvut.cz/dataset/CORA\n",
        "\n",
        "[3] http://eliassi.org/papers/ai-mag-tr08.pdf"
      ]
    },
    {
      "cell_type": "code",
      "execution_count": null,
      "metadata": {
        "colab": {
          "base_uri": "https://localhost:8080/"
        },
        "id": "bPWo9rt_FF7x",
        "outputId": "27e1add9-ca62-4fad-a0bf-54b94ba66428"
      },
      "outputs": [],
      "source": [
        "# Download cora dataset node and edge data from github.\n",
        "!wget -P /tmp/cora https://github.com/tkipf/pygcn/raw/master/data/cora/cora.cites\n",
        "!wget -P /tmp/cora https://github.com/tkipf/pygcn/raw/master/data/cora/cora.content"
      ]
    },
    {
      "cell_type": "code",
      "execution_count": null,
      "metadata": {
        "colab": {
          "base_uri": "https://localhost:8080/"
        },
        "id": "ZEJjNJEYIrVu",
        "outputId": "789829b0-b731-41d4-b2b0-b94fa3b999f3"
      },
      "outputs": [],
      "source": [
        "# You should have cora.cites and cora.content.\n",
        "# If you run the download code several times you will get duplicates, which is ok.\n",
        "!ls /tmp/cora"
      ]
    },
    {
      "cell_type": "code",
      "execution_count": null,
      "metadata": {
        "id": "nJPy6iFmERCp"
      },
      "outputs": [],
      "source": [
        "# https://github.com/tkipf/pygcn/blob/master/pygcn/utils.py\n",
        "def sparse_mx_to_torch_sparse_tensor(sparse_mx):\n",
        "    \"\"\"Convert a scipy sparse matrix to a torch sparse tensor.\"\"\"\n",
        "    sparse_mx = sparse_mx.tocoo().astype(np.float32)\n",
        "    indices = torch.from_numpy(\n",
        "        np.vstack((sparse_mx.row, sparse_mx.col)).astype(np.int64))\n",
        "    values = torch.from_numpy(sparse_mx.data)\n",
        "    shape = torch.Size(sparse_mx.shape)\n",
        "    return torch.sparse.FloatTensor(indices, values, shape)\n",
        "\n",
        "\n",
        "def normalize(mx):\n",
        "    \"\"\"Row-normalize sparse matrix\"\"\"\n",
        "    rowsum = np.array(mx.sum(1))\n",
        "    r_inv = np.power(rowsum, -1).flatten()\n",
        "    r_inv[np.isinf(r_inv)] = 0.\n",
        "    r_mat_inv = sp.diags(r_inv)\n",
        "    mx = r_mat_inv.dot(mx)\n",
        "    return mx\n",
        "\n",
        "\n",
        "def encode_onehot(labels):\n",
        "    classes = set(labels)\n",
        "    classes_dict = {c: np.identity(len(classes))[i, :] for i, c in\n",
        "                    enumerate(classes)}\n",
        "    labels_onehot = np.array(list(map(classes_dict.get, labels)),\n",
        "                             dtype=np.int32)\n",
        "    return labels_onehot\n",
        "\n",
        "\n",
        "def load_data(path=\"/tmp/cora/\", dataset=\"cora\"):\n",
        "    \"\"\"Load citation network dataset (cora only for now)\"\"\"\n",
        "    print('Loading {} dataset...'.format(dataset))\n",
        "\n",
        "    idx_features_labels = np.genfromtxt(\"{}{}.content\".format(path, dataset),\n",
        "                                        dtype=np.dtype(str))\n",
        "    features = sp.csr_matrix(idx_features_labels[:, 1:-1], dtype=np.float32)\n",
        "    labels = encode_onehot(idx_features_labels[:, -1])\n",
        "\n",
        "    # build graph\n",
        "    idx = np.array(idx_features_labels[:, 0], dtype=np.int32)\n",
        "    idx_map = {j: i for i, j in enumerate(idx)}\n",
        "    edges_unordered = np.genfromtxt(\"{}{}.cites\".format(path, dataset),\n",
        "                                    dtype=np.int32)\n",
        "    edges = np.array(list(map(idx_map.get, edges_unordered.flatten())),\n",
        "                     dtype=np.int32).reshape(edges_unordered.shape)\n",
        "    adj = sp.coo_matrix((np.ones(edges.shape[0]), (edges[:, 0], edges[:, 1])),\n",
        "                        shape=(labels.shape[0], labels.shape[0]),\n",
        "                        dtype=np.float32)\n",
        "\n",
        "    # build symmetric adjacency matrix\n",
        "    adj = adj + adj.T.multiply(adj.T > adj) - adj.multiply(adj.T > adj)\n",
        "\n",
        "    features = normalize(features)\n",
        "    adj = normalize(adj + sp.eye(adj.shape[0]))\n",
        "\n",
        "    idx_train = range(140)\n",
        "    idx_val = range(200, 500)\n",
        "    idx_test = range(500, 1500)\n",
        "\n",
        "    features = torch.FloatTensor(np.array(features.todense()))\n",
        "    labels = torch.LongTensor(np.where(labels)[1])\n",
        "    adj = sparse_mx_to_torch_sparse_tensor(adj)\n",
        "\n",
        "    idx_train = torch.LongTensor(idx_train)\n",
        "    idx_val = torch.LongTensor(idx_val)\n",
        "    idx_test = torch.LongTensor(idx_test)\n",
        "\n",
        "    return adj, features, labels, idx_train, idx_val, idx_test"
      ]
    },
    {
      "cell_type": "markdown",
      "metadata": {
        "id": "STv66O41ZDDT"
      },
      "source": [
        "Below, you have:\n",
        "* features: nodes times number of words in vocabulary,\n",
        "* labels: node labels, zero for unlabeled nodes,\n",
        "* idx_train: indices of nodes that have training labels,\n",
        "* idx_val: indices of nodes that have validation labels,\n",
        "* idx_test: indices of nodes that have testing labels,\n",
        "* adj: a **sparse tensor** representing an adjacency matrix, adj[i, j]: indices if paper i cites paper j.\n",
        "\n",
        "How to work with a [sparse torch tensor](https://pytorch.org/docs/stable/sparse.html)?\n",
        "* You can call **adj.to_dense()** to convert it to a standard torch tensor. This is probably the best approach, unless your Graph Convolution model is too slow.\n",
        "* Call **torch.sparse.mm** to multiply a sparse tensor (first argument) with a normal tensor (second argument)."
      ]
    },
    {
      "cell_type": "code",
      "execution_count": null,
      "metadata": {
        "colab": {
          "base_uri": "https://localhost:8080/"
        },
        "id": "ONGBli7pFpzv",
        "outputId": "a181e9fc-db25-4370-e1cb-b38a9e960f41"
      },
      "outputs": [],
      "source": [
        "adj, features, labels, idx_train, idx_val, idx_test = load_data()"
      ]
    },
    {
      "cell_type": "code",
      "execution_count": null,
      "metadata": {
        "colab": {
          "base_uri": "https://localhost:8080/"
        },
        "id": "CZsqbYGQydrf",
        "outputId": "34181ad9-23b3-4879-f498-78e6561d64bd"
      },
      "outputs": [],
      "source": [
        "features[idx_val].shape"
      ]
    },
    {
      "cell_type": "code",
      "execution_count": null,
      "metadata": {
        "colab": {
          "base_uri": "https://localhost:8080/"
        },
        "id": "mtJfmjj0fjvI",
        "outputId": "154f42bd-136b-44b7-b986-4d8fe3db0183"
      },
      "outputs": [],
      "source": [
        "features.shape"
      ]
    },
    {
      "cell_type": "code",
      "execution_count": null,
      "metadata": {
        "colab": {
          "base_uri": "https://localhost:8080/"
        },
        "id": "tQ47hrkMPPsF",
        "outputId": "a1d23630-c353-4180-94e7-64922320f694"
      },
      "outputs": [],
      "source": [
        "adj.shape"
      ]
    },
    {
      "cell_type": "markdown",
      "metadata": {
        "id": "Bkxr4oP3T2Dr"
      },
      "source": [
        "## Training a baseline"
      ]
    },
    {
      "cell_type": "markdown",
      "metadata": {
        "id": "zFGiZPOEapUk"
      },
      "source": [
        "Below is a simple proof-of-concept baseline that classifies papers solely on their bag of words vectors. It achieves a validation accuracy of around 54%, which is somewhat better than only predicting class 5 with 46% accuracy. Your task is to use the adjacency matrix (adj) with a Graph Convolution to improve this model."
      ]
    },
    {
      "cell_type": "code",
      "execution_count": null,
      "metadata": {
        "id": "Yzl0DxE1xSHu"
      },
      "outputs": [],
      "source": [
        "class MLPBaseline(nn.Module):\n",
        "\n",
        "  def __init__(self):\n",
        "    super().__init__()\n",
        "\n",
        "    self.fc1 = nn.Linear(1433, 128)\n",
        "    self.fc2 = nn.Linear(128, 128)\n",
        "    self.fc3 = nn.Linear(128, 7)\n",
        "    self.act = nn.ReLU()\n",
        "\n",
        "  def forward(self, x: torch.Tensor) -> torch.Tensor:\n",
        "\n",
        "    x = self.act(self.fc1(x))\n",
        "    x = self.act(self.fc2(x))\n",
        "    x = F.log_softmax(self.fc3(x), dim=-1)\n",
        "\n",
        "    return x"
      ]
    },
    {
      "cell_type": "code",
      "execution_count": null,
      "metadata": {
        "id": "8_q5Z9WXK0dZ"
      },
      "outputs": [],
      "source": [
        "def train(features: torch.Tensor, labels: torch.Tensor, idx_train: torch.Tensor,\n",
        "          model: nn.Module, optimizer: optim.Optimizer, epochs: int):\n",
        "  \n",
        "  features = features[idx_train].to(device)\n",
        "  labels = labels[idx_train].to(device)\n",
        "\n",
        "  losses = []\n",
        "  # 1 epoch = 1 pass through the dataset.\n",
        "\n",
        "  for epoch in range(epochs):\n",
        "    # Reset last optimization step.\n",
        "    optimizer.zero_grad()\n",
        "    # Make prediction, calculate loss.\n",
        "    outputs = model(features)\n",
        "    loss = F.nll_loss(outputs, labels)\n",
        "    # Compute gradients and update weights.\n",
        "    loss.backward()\n",
        "    optimizer.step()\n",
        "    losses.append(loss.item())\n",
        "\n",
        "    if epoch > 0 and epoch % 50 == 0:\n",
        "      print(\"Epoch {:d} / {:d}\".format(epoch, epochs))\n",
        "      print(\"Mean of last 50 losses: {:f}\".format(np.mean(losses[-50:])))\n",
        "\n",
        "  plt.plot(losses)\n",
        "  plt.xlabel(\"Training step\")\n",
        "  plt.ylabel(\"Loss\")\n",
        "  return losses"
      ]
    },
    {
      "cell_type": "code",
      "execution_count": null,
      "metadata": {
        "id": "1xcDo9iVN_6R"
      },
      "outputs": [],
      "source": [
        "# We don't need gradients during evaluation.\n",
        "@torch.no_grad()\n",
        "def evaluate(features: torch.Tensor, labels: torch.Tensor,\n",
        "             idx_val: torch.Tensor, model: nn.Module):\n",
        "\n",
        "  features = features[idx_val].to(device)\n",
        "  labels = labels[idx_val].to(device)\n",
        "\n",
        "  accuracy = []\n",
        "\n",
        "  outputs = model(features)\n",
        "  pred_labels = torch.argmax(outputs, dim=-1)\n",
        "  tmp = (labels == pred_labels).float().mean()\n",
        "  accuracy.append(tmp.item())\n",
        "\n",
        "  accuracy = np.mean(accuracy)\n",
        "  return accuracy\n",
        "  print(\"Correct answer in {:.1f}% of cases.\".format(accuracy * 100))"
      ]
    },
    {
      "cell_type": "code",
      "execution_count": null,
      "metadata": {
        "colab": {
          "base_uri": "https://localhost:8080/"
        },
        "id": "ZSaUUA_WqZzd",
        "outputId": "86a60314-2508-446b-d179-7ed9cf8eb9c9"
      },
      "outputs": [],
      "source": [
        "features.shape"
      ]
    },
    {
      "cell_type": "code",
      "execution_count": null,
      "metadata": {
        "colab": {
          "base_uri": "https://localhost:8080/",
          "height": 467
        },
        "id": "3PWC2rBCK4hm",
        "outputId": "3494155b-d38e-452a-d08f-31601a3f514c"
      },
      "outputs": [],
      "source": [
        "modelMLP = MLPBaseline().to(device)\n",
        "optimizer = optim.Adam(modelMLP.parameters(), lr=0.001)\n",
        "MLP_losses = train(features, labels, idx_train, modelMLP, optimizer, 300)\n",
        "evaluate(features, labels, idx_val, modelMLP)"
      ]
    },
    {
      "cell_type": "code",
      "execution_count": null,
      "metadata": {
        "id": "G2DQXolbxSVI"
      },
      "outputs": [],
      "source": []
    },
    {
      "cell_type": "markdown",
      "metadata": {
        "id": "V5V5pMkBT9gw"
      },
      "source": [
        "## == Task 2 ==\n",
        "\n",
        "[**Question 1**] Implement a Graph Convolutional Network (https://arxiv.org/abs/1609.02907) and train it on the Cora dataset. The network should make a prediction for each of the 2708 nodes, but only be trained and evaluated on the nodes specified by `idx_train` and `idx_val`. Plot its learning curve and report its validation accuracy. Note that you can run the entire graph through the network in a single training step (unless you run out of memory). My MLP baseline above only uses the nodes that have training and validation labels. That is because it does not look at the neighbors (and their neighbors, ...) of labeled nodes. You will have to use all nodes.\n",
        "\n",
        "[**Question 2**] Is the MLP baseline equivariant to the permutation of nodes (and the corresponding permutation of the adjacency matrix)? What about the Graph Convolutional Network?\n",
        "\n",
        "[**Question 3**] Plot the number of training steps (you can choose a few discrete values) vs validation accuracy. Is the MLP baseline or the Graph Convolutional Network more prone to overfitting? Why?"
      ]
    },
    {
      "cell_type": "code",
      "execution_count": null,
      "metadata": {
        "id": "q_-9e7Pt2Wpr"
      },
      "outputs": [],
      "source": []
    },
    {
      "cell_type": "code",
      "execution_count": null,
      "metadata": {
        "id": "NgLLiAk2qCIE"
      },
      "outputs": [],
      "source": []
    },
    {
      "cell_type": "code",
      "execution_count": null,
      "metadata": {
        "id": "heXQ8ZCLwDuS"
      },
      "outputs": [],
      "source": [
        "import torch\n",
        "import torch.nn as nn\n",
        "import torch.nn.functional as F\n",
        "\n",
        "class GCN(nn.Module):\n",
        "    def __init__(self, in_features, out_features):\n",
        "        super(GCN, self).__init__()\n",
        "        self.in_features = in_features\n",
        "        self.out_features = out_features\n",
        "        self.weight = nn.Parameter(torch.FloatTensor(in_features, out_features))\n",
        "        self.reset_parameters()\n",
        "\n",
        "    def reset_parameters(self):\n",
        "        nn.init.xavier_uniform_(self.weight)\n",
        "\n",
        "    def forward(self, x, adjacency_matrix):\n",
        "        device = x.device\n",
        "        adjacency_matrix = adjacency_matrix + torch.eye(adjacency_matrix.shape[0], device=device)\n",
        "        adjacency_matrix = adjacency_matrix / adjacency_matrix.sum(dim=1, keepdim=True)\n",
        "        h = torch.mm(x, self.weight)\n",
        "        h = torch.matmul(adjacency_matrix, h)\n",
        "        return h\n",
        "\n",
        "class GCNClassifier(nn.Module):\n",
        "    def __init__(self, in_features, hidden_features, out_features, dropout=0.5):\n",
        "        super(GCNClassifier, self).__init__()\n",
        "        self.gcn1 = GCN(in_features, hidden_features)\n",
        "        self.gcn2 = GCN(hidden_features, out_features)\n",
        "        self.dropout = nn.Dropout(dropout)\n",
        "\n",
        "    def forward(self, x, adjacency_matrix):\n",
        "        device = x.device\n",
        "        adjacency_matrix = adjacency_matrix.to(device)\n",
        "        x = x.to(device)\n",
        "        h = self.gcn1(x, adjacency_matrix)\n",
        "        h = F.relu(h)\n",
        "        h = self.dropout(h)\n",
        "        h = self.gcn2(h, adjacency_matrix)\n",
        "        return h\n"
      ]
    },
    {
      "cell_type": "code",
      "execution_count": null,
      "metadata": {
        "id": "LuLGB_8iiDsD"
      },
      "outputs": [],
      "source": []
    },
    {
      "cell_type": "code",
      "execution_count": null,
      "metadata": {
        "colab": {
          "base_uri": "https://localhost:8080/"
        },
        "id": "pIkxs0XzdLct",
        "outputId": "62e05964-bc48-4408-a507-afd65b0e2793"
      },
      "outputs": [],
      "source": [
        "adj, features, labels, idx_train, idx_val, idx_test = load_data()"
      ]
    },
    {
      "cell_type": "code",
      "execution_count": null,
      "metadata": {
        "id": "Z-WMM18ptc3q"
      },
      "outputs": [],
      "source": [
        "device = torch.device('cuda' if torch.cuda.is_available() else 'cpu')\n",
        "features = features.to(device)\n",
        "adj = adj.to_dense().to(device)\n",
        "labels = labels.to(device)\n",
        "idx_train = idx_train.to(device)\n",
        "idx_val = idx_val.to(device)"
      ]
    },
    {
      "cell_type": "code",
      "execution_count": null,
      "metadata": {
        "id": "cb_zjta8qLif"
      },
      "outputs": [],
      "source": [
        "# Create the GCN model\n",
        "\n",
        "modelGCN = GCNClassifier(in_features=1433, hidden_features=16, out_features=7).to(device)\n",
        "\n",
        "# Define the loss function and optimizer\n",
        "criterion = nn.CrossEntropyLoss()\n",
        "optimizer = torch.optim.Adam(modelGCN.parameters(), lr=0.01)"
      ]
    },
    {
      "cell_type": "code",
      "execution_count": null,
      "metadata": {
        "id": "bhDR5wMH5nUl"
      },
      "outputs": [],
      "source": []
    },
    {
      "cell_type": "code",
      "execution_count": null,
      "metadata": {
        "colab": {
          "base_uri": "https://localhost:8080/",
          "height": 449
        },
        "id": "aTA48W77qCog",
        "outputId": "b009c0fa-6b12-41ed-a425-df1ff13cd405"
      },
      "outputs": [],
      "source": [
        "GCN_losses = []\n",
        "epochs = 300\n",
        "for epoch in range(epochs):\n",
        "    optimizer.zero_grad()\n",
        "    output = modelGCN(features, adj)\n",
        "    loss = criterion(output[idx_train], labels[idx_train])\n",
        "    loss.backward()\n",
        "    optimizer.step()\n",
        "    GCN_losses.append(loss.item())\n",
        "\n",
        "    if epoch > 0 and epoch % 50 == 0:\n",
        "      print(\"Epoch {:d} / {:d}\".format(epoch, epochs))\n",
        "      print(\"Mean of last 50 losses: {:f}\".format(np.mean(GCN_losses[-50:])))\n",
        "      \n",
        "    plt.plot(GCN_losses)\n",
        "    plt.xlabel(\"Training step\")\n",
        "    plt.ylabel(\"Loss\")"
      ]
    },
    {
      "cell_type": "code",
      "execution_count": null,
      "metadata": {
        "id": "bk3LFbUHwKKx"
      },
      "outputs": [],
      "source": []
    },
    {
      "cell_type": "code",
      "execution_count": null,
      "metadata": {
        "colab": {
          "base_uri": "https://localhost:8080/",
          "height": 623
        },
        "id": "Qeno-YZtwr9R",
        "outputId": "ebbf550e-ceac-46fb-e456-11c02f747b3d"
      },
      "outputs": [],
      "source": [
        "plt.figure(figsize=(10, 10))\n",
        "plt.plot(GCN_losses, label=\"GCN losses\")\n",
        "plt.plot(MLP_losses, label=\"MLP losses\")\n",
        "\n",
        "plt.legend(loc=\"upper right\")\n",
        "plt.xlabel(\"Training step\")\n",
        "plt.ylabel(\"Loss\")"
      ]
    },
    {
      "cell_type": "code",
      "execution_count": null,
      "metadata": {
        "colab": {
          "base_uri": "https://localhost:8080/"
        },
        "id": "FOsA32wHy2wc",
        "outputId": "2dbf696e-1dfe-4cb3-d840-09760bb0bda7"
      },
      "outputs": [],
      "source": [
        "accuracyGCN = []\n",
        "accuracyMLP = []\n",
        "\n",
        "outputs = modelGCN(features,adj)\n",
        "pred_labels = torch.argmax(outputs[idx_val], dim=-1)\n",
        "tmp = (labels[idx_val] == pred_labels).float().mean()\n",
        "accuracyGCN.append(tmp.item())\n",
        "\n",
        "accuracy = np.mean(accuracyGCN)\n",
        "print(\"Correct answer of GCN in {:.1f}% of cases.\".format(accuracy * 100))\n",
        "evaluate(features, labels, idx_val, modelMLP)"
      ]
    },
    {
      "cell_type": "code",
      "execution_count": null,
      "metadata": {
        "id": "rensMT2ih4s0"
      },
      "outputs": [],
      "source": [
        "def createList(r1, r2):\n",
        "    return [item for item in range(r1, r2+1) if item%10==0]\n",
        "epchos_list = createList(10,1000)\n"
      ]
    },
    {
      "cell_type": "code",
      "execution_count": null,
      "metadata": {
        "colab": {
          "base_uri": "https://localhost:8080/"
        },
        "id": "lbBoM2idj6YK",
        "outputId": "98d50c1c-4c42-4564-9e2f-c6426e886822"
      },
      "outputs": [],
      "source": [
        "adj_, features_, labels_, idx_train_, idx_val_, idx_test_ = load_data()"
      ]
    },
    {
      "cell_type": "code",
      "execution_count": null,
      "metadata": {
        "colab": {
          "base_uri": "https://localhost:8080/",
          "height": 1000
        },
        "id": "F5DGews8zQUb",
        "outputId": "dde0625b-158b-4b35-a485-6c762d8d3452"
      },
      "outputs": [],
      "source": [
        "\n",
        "acclistMLP = []\n",
        "acclistGCN = []\n",
        "\n",
        "for epchos in epchos_list:\n",
        "\n",
        "  device = torch.device('cuda' if torch.cuda.is_available() else 'cpu')\n",
        "  features = features_.to(device)\n",
        "  adj = adj_.to_dense().to(device)\n",
        "  labels = labels_.to(device)\n",
        "  idx_train = idx_train_.to(device)\n",
        "  idx_val = idx_val_.to(device)\n",
        "\n",
        "  modelMLP = MLPBaseline().to(device)\n",
        "  optimizer = optim.Adam(modelMLP.parameters(), lr=0.001)\n",
        "  MLP_losses = train(features, labels, idx_train, modelMLP, optimizer, epchos)\n",
        "  acclistMLP.append(evaluate(features, labels, idx_val, modelMLP))\n",
        "\n",
        "  for epoch in range(epochs):\n",
        "      optimizer.zero_grad()\n",
        "      output = modelGCN(features, adj)\n",
        "      loss = criterion(output[idx_train], labels[idx_train])\n",
        "      loss.backward()\n",
        "      optimizer.step()\n",
        "\n",
        "  accuracyGCN_ = []\n",
        "  outputs = modelGCN(features,adj)\n",
        "  pred_labels = torch.argmax(outputs[idx_val], dim=-1)\n",
        "  tmp = (labels[idx_val] == pred_labels).float().mean()\n",
        "  accuracyGCN_.append(tmp.item())\n",
        "  acclistGCN.append(np.mean(accuracyGCN_))\n",
        "\n",
        "plt.plot(epchos_list,acclistMLP)\n",
        "plt.plot(epchos_list,acclistGCN)\n",
        "plt.xlabel(\"Training step size\")\n",
        "plt.ylabel(\"Validation Accuracy\")"
      ]
    },
    {
      "cell_type": "code",
      "execution_count": null,
      "metadata": {
        "colab": {
          "base_uri": "https://localhost:8080/",
          "height": 623
        },
        "id": "STgLEfj6sYzv",
        "outputId": "d1972f0f-5ace-4c79-bd14-10abb9e812ce"
      },
      "outputs": [],
      "source": [
        "plt.figure(figsize=(10, 10))\n",
        "plt.plot(epchos_list,acclistMLP,label=\"MLP\")\n",
        "plt.plot(epchos_list,acclistGCN,label=\"GCN\")\n",
        "plt.xlabel(\"Training step size\")\n",
        "plt.ylabel(\"Validation Accuracy\")\n",
        "\n",
        "plt.legend(loc=\"upper left\")\n",
        "plt.xlabel(\"Training step size\")\n",
        "plt.ylabel(\"Validation Accuracy\")\n"
      ]
    },
    {
      "cell_type": "code",
      "execution_count": null,
      "metadata": {
        "id": "ChV9yUBE6Cgh"
      },
      "outputs": [],
      "source": []
    },
    {
      "cell_type": "code",
      "execution_count": null,
      "metadata": {
        "id": "XWe0QcD62YAO"
      },
      "outputs": [],
      "source": []
    }
  ],
  "metadata": {
    "accelerator": "GPU",
    "colab": {
      "machine_shape": "hm",
      "provenance": [],
      "toc_visible": true
    },
    "gpuClass": "premium",
    "kernelspec": {
      "display_name": "Python 3",
      "name": "python3"
    },
    "language_info": {
      "name": "python"
    },
    "widgets": {
      "application/vnd.jupyter.widget-state+json": {
        "065760f523dd482b85208e8583ea7a2a": {
          "model_module": "@jupyter-widgets/controls",
          "model_module_version": "1.5.0",
          "model_name": "HTMLModel",
          "state": {
            "_dom_classes": [],
            "_model_module": "@jupyter-widgets/controls",
            "_model_module_version": "1.5.0",
            "_model_name": "HTMLModel",
            "_view_count": null,
            "_view_module": "@jupyter-widgets/controls",
            "_view_module_version": "1.5.0",
            "_view_name": "HTMLView",
            "description": "",
            "description_tooltip": null,
            "layout": "IPY_MODEL_4ed403ec7992496ea2b86ab34c77b20c",
            "placeholder": "​",
            "style": "IPY_MODEL_a91004dfb0884554be97c410f4a859b1",
            "value": "100%"
          }
        },
        "067989f71b674936a44817eab4881a3d": {
          "model_module": "@jupyter-widgets/controls",
          "model_module_version": "1.5.0",
          "model_name": "DescriptionStyleModel",
          "state": {
            "_model_module": "@jupyter-widgets/controls",
            "_model_module_version": "1.5.0",
            "_model_name": "DescriptionStyleModel",
            "_view_count": null,
            "_view_module": "@jupyter-widgets/base",
            "_view_module_version": "1.2.0",
            "_view_name": "StyleView",
            "description_width": ""
          }
        },
        "06d4ac938f9e44ffaee8729e45f52c5e": {
          "model_module": "@jupyter-widgets/base",
          "model_module_version": "1.2.0",
          "model_name": "LayoutModel",
          "state": {
            "_model_module": "@jupyter-widgets/base",
            "_model_module_version": "1.2.0",
            "_model_name": "LayoutModel",
            "_view_count": null,
            "_view_module": "@jupyter-widgets/base",
            "_view_module_version": "1.2.0",
            "_view_name": "LayoutView",
            "align_content": null,
            "align_items": null,
            "align_self": null,
            "border": null,
            "bottom": null,
            "display": null,
            "flex": null,
            "flex_flow": null,
            "grid_area": null,
            "grid_auto_columns": null,
            "grid_auto_flow": null,
            "grid_auto_rows": null,
            "grid_column": null,
            "grid_gap": null,
            "grid_row": null,
            "grid_template_areas": null,
            "grid_template_columns": null,
            "grid_template_rows": null,
            "height": null,
            "justify_content": null,
            "justify_items": null,
            "left": null,
            "margin": null,
            "max_height": null,
            "max_width": null,
            "min_height": null,
            "min_width": null,
            "object_fit": null,
            "object_position": null,
            "order": null,
            "overflow": null,
            "overflow_x": null,
            "overflow_y": null,
            "padding": null,
            "right": null,
            "top": null,
            "visibility": null,
            "width": null
          }
        },
        "078c83d2943b45ab856a98c6958fcfc7": {
          "model_module": "@jupyter-widgets/base",
          "model_module_version": "1.2.0",
          "model_name": "LayoutModel",
          "state": {
            "_model_module": "@jupyter-widgets/base",
            "_model_module_version": "1.2.0",
            "_model_name": "LayoutModel",
            "_view_count": null,
            "_view_module": "@jupyter-widgets/base",
            "_view_module_version": "1.2.0",
            "_view_name": "LayoutView",
            "align_content": null,
            "align_items": null,
            "align_self": null,
            "border": null,
            "bottom": null,
            "display": null,
            "flex": null,
            "flex_flow": null,
            "grid_area": null,
            "grid_auto_columns": null,
            "grid_auto_flow": null,
            "grid_auto_rows": null,
            "grid_column": null,
            "grid_gap": null,
            "grid_row": null,
            "grid_template_areas": null,
            "grid_template_columns": null,
            "grid_template_rows": null,
            "height": null,
            "justify_content": null,
            "justify_items": null,
            "left": null,
            "margin": null,
            "max_height": null,
            "max_width": null,
            "min_height": null,
            "min_width": null,
            "object_fit": null,
            "object_position": null,
            "order": null,
            "overflow": null,
            "overflow_x": null,
            "overflow_y": null,
            "padding": null,
            "right": null,
            "top": null,
            "visibility": null,
            "width": null
          }
        },
        "0965094cefa2432aa9775ad95949ae5b": {
          "model_module": "@jupyter-widgets/base",
          "model_module_version": "1.2.0",
          "model_name": "LayoutModel",
          "state": {
            "_model_module": "@jupyter-widgets/base",
            "_model_module_version": "1.2.0",
            "_model_name": "LayoutModel",
            "_view_count": null,
            "_view_module": "@jupyter-widgets/base",
            "_view_module_version": "1.2.0",
            "_view_name": "LayoutView",
            "align_content": null,
            "align_items": null,
            "align_self": null,
            "border": null,
            "bottom": null,
            "display": null,
            "flex": null,
            "flex_flow": null,
            "grid_area": null,
            "grid_auto_columns": null,
            "grid_auto_flow": null,
            "grid_auto_rows": null,
            "grid_column": null,
            "grid_gap": null,
            "grid_row": null,
            "grid_template_areas": null,
            "grid_template_columns": null,
            "grid_template_rows": null,
            "height": null,
            "justify_content": null,
            "justify_items": null,
            "left": null,
            "margin": null,
            "max_height": null,
            "max_width": null,
            "min_height": null,
            "min_width": null,
            "object_fit": null,
            "object_position": null,
            "order": null,
            "overflow": null,
            "overflow_x": null,
            "overflow_y": null,
            "padding": null,
            "right": null,
            "top": null,
            "visibility": null,
            "width": null
          }
        },
        "0d25c847472c4fa5815e2c3d6bf53996": {
          "model_module": "@jupyter-widgets/base",
          "model_module_version": "1.2.0",
          "model_name": "LayoutModel",
          "state": {
            "_model_module": "@jupyter-widgets/base",
            "_model_module_version": "1.2.0",
            "_model_name": "LayoutModel",
            "_view_count": null,
            "_view_module": "@jupyter-widgets/base",
            "_view_module_version": "1.2.0",
            "_view_name": "LayoutView",
            "align_content": null,
            "align_items": null,
            "align_self": null,
            "border": null,
            "bottom": null,
            "display": null,
            "flex": null,
            "flex_flow": null,
            "grid_area": null,
            "grid_auto_columns": null,
            "grid_auto_flow": null,
            "grid_auto_rows": null,
            "grid_column": null,
            "grid_gap": null,
            "grid_row": null,
            "grid_template_areas": null,
            "grid_template_columns": null,
            "grid_template_rows": null,
            "height": null,
            "justify_content": null,
            "justify_items": null,
            "left": null,
            "margin": null,
            "max_height": null,
            "max_width": null,
            "min_height": null,
            "min_width": null,
            "object_fit": null,
            "object_position": null,
            "order": null,
            "overflow": null,
            "overflow_x": null,
            "overflow_y": null,
            "padding": null,
            "right": null,
            "top": null,
            "visibility": null,
            "width": null
          }
        },
        "12c2eb6b9f44424eb213f1308ed731fd": {
          "model_module": "@jupyter-widgets/controls",
          "model_module_version": "1.5.0",
          "model_name": "DescriptionStyleModel",
          "state": {
            "_model_module": "@jupyter-widgets/controls",
            "_model_module_version": "1.5.0",
            "_model_name": "DescriptionStyleModel",
            "_view_count": null,
            "_view_module": "@jupyter-widgets/base",
            "_view_module_version": "1.2.0",
            "_view_name": "StyleView",
            "description_width": ""
          }
        },
        "148a82d7dc674c35a15bd693a92a389b": {
          "model_module": "@jupyter-widgets/base",
          "model_module_version": "1.2.0",
          "model_name": "LayoutModel",
          "state": {
            "_model_module": "@jupyter-widgets/base",
            "_model_module_version": "1.2.0",
            "_model_name": "LayoutModel",
            "_view_count": null,
            "_view_module": "@jupyter-widgets/base",
            "_view_module_version": "1.2.0",
            "_view_name": "LayoutView",
            "align_content": null,
            "align_items": null,
            "align_self": null,
            "border": null,
            "bottom": null,
            "display": null,
            "flex": null,
            "flex_flow": null,
            "grid_area": null,
            "grid_auto_columns": null,
            "grid_auto_flow": null,
            "grid_auto_rows": null,
            "grid_column": null,
            "grid_gap": null,
            "grid_row": null,
            "grid_template_areas": null,
            "grid_template_columns": null,
            "grid_template_rows": null,
            "height": null,
            "justify_content": null,
            "justify_items": null,
            "left": null,
            "margin": null,
            "max_height": null,
            "max_width": null,
            "min_height": null,
            "min_width": null,
            "object_fit": null,
            "object_position": null,
            "order": null,
            "overflow": null,
            "overflow_x": null,
            "overflow_y": null,
            "padding": null,
            "right": null,
            "top": null,
            "visibility": null,
            "width": null
          }
        },
        "1bc2400c7cd4472fbc07870295a043a9": {
          "model_module": "@jupyter-widgets/controls",
          "model_module_version": "1.5.0",
          "model_name": "FloatProgressModel",
          "state": {
            "_dom_classes": [],
            "_model_module": "@jupyter-widgets/controls",
            "_model_module_version": "1.5.0",
            "_model_name": "FloatProgressModel",
            "_view_count": null,
            "_view_module": "@jupyter-widgets/controls",
            "_view_module_version": "1.5.0",
            "_view_name": "ProgressView",
            "bar_style": "success",
            "description": "",
            "description_tooltip": null,
            "layout": "IPY_MODEL_829698792cd140ee8adcde42d22bb750",
            "max": 4542,
            "min": 0,
            "orientation": "horizontal",
            "style": "IPY_MODEL_d31804196b604cd9be56e348044a9183",
            "value": 4542
          }
        },
        "1dc4b7061da14817a476a94f5c26cce9": {
          "model_module": "@jupyter-widgets/base",
          "model_module_version": "1.2.0",
          "model_name": "LayoutModel",
          "state": {
            "_model_module": "@jupyter-widgets/base",
            "_model_module_version": "1.2.0",
            "_model_name": "LayoutModel",
            "_view_count": null,
            "_view_module": "@jupyter-widgets/base",
            "_view_module_version": "1.2.0",
            "_view_name": "LayoutView",
            "align_content": null,
            "align_items": null,
            "align_self": null,
            "border": null,
            "bottom": null,
            "display": null,
            "flex": null,
            "flex_flow": null,
            "grid_area": null,
            "grid_auto_columns": null,
            "grid_auto_flow": null,
            "grid_auto_rows": null,
            "grid_column": null,
            "grid_gap": null,
            "grid_row": null,
            "grid_template_areas": null,
            "grid_template_columns": null,
            "grid_template_rows": null,
            "height": null,
            "justify_content": null,
            "justify_items": null,
            "left": null,
            "margin": null,
            "max_height": null,
            "max_width": null,
            "min_height": null,
            "min_width": null,
            "object_fit": null,
            "object_position": null,
            "order": null,
            "overflow": null,
            "overflow_x": null,
            "overflow_y": null,
            "padding": null,
            "right": null,
            "top": null,
            "visibility": null,
            "width": null
          }
        },
        "1f4e9d90d9ca4559934b568bfb059a8a": {
          "model_module": "@jupyter-widgets/controls",
          "model_module_version": "1.5.0",
          "model_name": "DescriptionStyleModel",
          "state": {
            "_model_module": "@jupyter-widgets/controls",
            "_model_module_version": "1.5.0",
            "_model_name": "DescriptionStyleModel",
            "_view_count": null,
            "_view_module": "@jupyter-widgets/base",
            "_view_module_version": "1.2.0",
            "_view_name": "StyleView",
            "description_width": ""
          }
        },
        "1fceb59ccf9b47d082c95fd301a16c74": {
          "model_module": "@jupyter-widgets/controls",
          "model_module_version": "1.5.0",
          "model_name": "DescriptionStyleModel",
          "state": {
            "_model_module": "@jupyter-widgets/controls",
            "_model_module_version": "1.5.0",
            "_model_name": "DescriptionStyleModel",
            "_view_count": null,
            "_view_module": "@jupyter-widgets/base",
            "_view_module_version": "1.2.0",
            "_view_name": "StyleView",
            "description_width": ""
          }
        },
        "200038f37117410392709e60a2739bcc": {
          "model_module": "@jupyter-widgets/controls",
          "model_module_version": "1.5.0",
          "model_name": "ProgressStyleModel",
          "state": {
            "_model_module": "@jupyter-widgets/controls",
            "_model_module_version": "1.5.0",
            "_model_name": "ProgressStyleModel",
            "_view_count": null,
            "_view_module": "@jupyter-widgets/base",
            "_view_module_version": "1.2.0",
            "_view_name": "StyleView",
            "bar_color": null,
            "description_width": ""
          }
        },
        "208cd06778c7438aacbf51eb357b04d4": {
          "model_module": "@jupyter-widgets/controls",
          "model_module_version": "1.5.0",
          "model_name": "ProgressStyleModel",
          "state": {
            "_model_module": "@jupyter-widgets/controls",
            "_model_module_version": "1.5.0",
            "_model_name": "ProgressStyleModel",
            "_view_count": null,
            "_view_module": "@jupyter-widgets/base",
            "_view_module_version": "1.2.0",
            "_view_name": "StyleView",
            "bar_color": null,
            "description_width": ""
          }
        },
        "233e6ea981f945b78c1f2b3b17e7bed5": {
          "model_module": "@jupyter-widgets/controls",
          "model_module_version": "1.5.0",
          "model_name": "DescriptionStyleModel",
          "state": {
            "_model_module": "@jupyter-widgets/controls",
            "_model_module_version": "1.5.0",
            "_model_name": "DescriptionStyleModel",
            "_view_count": null,
            "_view_module": "@jupyter-widgets/base",
            "_view_module_version": "1.2.0",
            "_view_name": "StyleView",
            "description_width": ""
          }
        },
        "253f4e0a86594d52921d8e55c0fc95ec": {
          "model_module": "@jupyter-widgets/controls",
          "model_module_version": "1.5.0",
          "model_name": "FloatProgressModel",
          "state": {
            "_dom_classes": [],
            "_model_module": "@jupyter-widgets/controls",
            "_model_module_version": "1.5.0",
            "_model_name": "FloatProgressModel",
            "_view_count": null,
            "_view_module": "@jupyter-widgets/controls",
            "_view_module_version": "1.5.0",
            "_view_name": "ProgressView",
            "bar_style": "success",
            "description": "",
            "description_tooltip": null,
            "layout": "IPY_MODEL_c07b49f82acd4988bbd8f065b20c1151",
            "max": 4542,
            "min": 0,
            "orientation": "horizontal",
            "style": "IPY_MODEL_208cd06778c7438aacbf51eb357b04d4",
            "value": 4542
          }
        },
        "259c344ed83541dbbeef18c308491141": {
          "model_module": "@jupyter-widgets/controls",
          "model_module_version": "1.5.0",
          "model_name": "HTMLModel",
          "state": {
            "_dom_classes": [],
            "_model_module": "@jupyter-widgets/controls",
            "_model_module_version": "1.5.0",
            "_model_name": "HTMLModel",
            "_view_count": null,
            "_view_module": "@jupyter-widgets/controls",
            "_view_module_version": "1.5.0",
            "_view_name": "HTMLView",
            "description": "",
            "description_tooltip": null,
            "layout": "IPY_MODEL_8d955396d59e4d2288104be3b21c38b7",
            "placeholder": "​",
            "style": "IPY_MODEL_84698791606e4bf2ad6f46919a038bdc",
            "value": "100%"
          }
        },
        "266f7c3c286c4f5d9225327ad758044b": {
          "model_module": "@jupyter-widgets/base",
          "model_module_version": "1.2.0",
          "model_name": "LayoutModel",
          "state": {
            "_model_module": "@jupyter-widgets/base",
            "_model_module_version": "1.2.0",
            "_model_name": "LayoutModel",
            "_view_count": null,
            "_view_module": "@jupyter-widgets/base",
            "_view_module_version": "1.2.0",
            "_view_name": "LayoutView",
            "align_content": null,
            "align_items": null,
            "align_self": null,
            "border": null,
            "bottom": null,
            "display": null,
            "flex": null,
            "flex_flow": null,
            "grid_area": null,
            "grid_auto_columns": null,
            "grid_auto_flow": null,
            "grid_auto_rows": null,
            "grid_column": null,
            "grid_gap": null,
            "grid_row": null,
            "grid_template_areas": null,
            "grid_template_columns": null,
            "grid_template_rows": null,
            "height": null,
            "justify_content": null,
            "justify_items": null,
            "left": null,
            "margin": null,
            "max_height": null,
            "max_width": null,
            "min_height": null,
            "min_width": null,
            "object_fit": null,
            "object_position": null,
            "order": null,
            "overflow": null,
            "overflow_x": null,
            "overflow_y": null,
            "padding": null,
            "right": null,
            "top": null,
            "visibility": null,
            "width": null
          }
        },
        "27ca69e2d3ee44c0b440ceba538fe552": {
          "model_module": "@jupyter-widgets/controls",
          "model_module_version": "1.5.0",
          "model_name": "HTMLModel",
          "state": {
            "_dom_classes": [],
            "_model_module": "@jupyter-widgets/controls",
            "_model_module_version": "1.5.0",
            "_model_name": "HTMLModel",
            "_view_count": null,
            "_view_module": "@jupyter-widgets/controls",
            "_view_module_version": "1.5.0",
            "_view_name": "HTMLView",
            "description": "",
            "description_tooltip": null,
            "layout": "IPY_MODEL_37a49366ad56490f9992e7c56cc2f7f4",
            "placeholder": "​",
            "style": "IPY_MODEL_57ee29feedc64d3ca312cdab50a34481",
            "value": "100%"
          }
        },
        "27f2cbc82e4a4574b810ca2571ec8c5d": {
          "model_module": "@jupyter-widgets/controls",
          "model_module_version": "1.5.0",
          "model_name": "FloatProgressModel",
          "state": {
            "_dom_classes": [],
            "_model_module": "@jupyter-widgets/controls",
            "_model_module_version": "1.5.0",
            "_model_name": "FloatProgressModel",
            "_view_count": null,
            "_view_module": "@jupyter-widgets/controls",
            "_view_module_version": "1.5.0",
            "_view_name": "ProgressView",
            "bar_style": "success",
            "description": "",
            "description_tooltip": null,
            "layout": "IPY_MODEL_ae403b81748842aa812ea77b2a0a3b7b",
            "max": 9912422,
            "min": 0,
            "orientation": "horizontal",
            "style": "IPY_MODEL_5614898f41ae468ba404d9d4e27f3284",
            "value": 9912422
          }
        },
        "29ddec75d0c04dd0aa5a2c09d52a6d78": {
          "model_module": "@jupyter-widgets/base",
          "model_module_version": "1.2.0",
          "model_name": "LayoutModel",
          "state": {
            "_model_module": "@jupyter-widgets/base",
            "_model_module_version": "1.2.0",
            "_model_name": "LayoutModel",
            "_view_count": null,
            "_view_module": "@jupyter-widgets/base",
            "_view_module_version": "1.2.0",
            "_view_name": "LayoutView",
            "align_content": null,
            "align_items": null,
            "align_self": null,
            "border": null,
            "bottom": null,
            "display": null,
            "flex": null,
            "flex_flow": null,
            "grid_area": null,
            "grid_auto_columns": null,
            "grid_auto_flow": null,
            "grid_auto_rows": null,
            "grid_column": null,
            "grid_gap": null,
            "grid_row": null,
            "grid_template_areas": null,
            "grid_template_columns": null,
            "grid_template_rows": null,
            "height": null,
            "justify_content": null,
            "justify_items": null,
            "left": null,
            "margin": null,
            "max_height": null,
            "max_width": null,
            "min_height": null,
            "min_width": null,
            "object_fit": null,
            "object_position": null,
            "order": null,
            "overflow": null,
            "overflow_x": null,
            "overflow_y": null,
            "padding": null,
            "right": null,
            "top": null,
            "visibility": null,
            "width": null
          }
        },
        "2ba828fe75e54b4cb3c7965aacedab9f": {
          "model_module": "@jupyter-widgets/base",
          "model_module_version": "1.2.0",
          "model_name": "LayoutModel",
          "state": {
            "_model_module": "@jupyter-widgets/base",
            "_model_module_version": "1.2.0",
            "_model_name": "LayoutModel",
            "_view_count": null,
            "_view_module": "@jupyter-widgets/base",
            "_view_module_version": "1.2.0",
            "_view_name": "LayoutView",
            "align_content": null,
            "align_items": null,
            "align_self": null,
            "border": null,
            "bottom": null,
            "display": null,
            "flex": null,
            "flex_flow": null,
            "grid_area": null,
            "grid_auto_columns": null,
            "grid_auto_flow": null,
            "grid_auto_rows": null,
            "grid_column": null,
            "grid_gap": null,
            "grid_row": null,
            "grid_template_areas": null,
            "grid_template_columns": null,
            "grid_template_rows": null,
            "height": null,
            "justify_content": null,
            "justify_items": null,
            "left": null,
            "margin": null,
            "max_height": null,
            "max_width": null,
            "min_height": null,
            "min_width": null,
            "object_fit": null,
            "object_position": null,
            "order": null,
            "overflow": null,
            "overflow_x": null,
            "overflow_y": null,
            "padding": null,
            "right": null,
            "top": null,
            "visibility": null,
            "width": null
          }
        },
        "2c02da96fa984399abc9c76cacd63071": {
          "model_module": "@jupyter-widgets/controls",
          "model_module_version": "1.5.0",
          "model_name": "ProgressStyleModel",
          "state": {
            "_model_module": "@jupyter-widgets/controls",
            "_model_module_version": "1.5.0",
            "_model_name": "ProgressStyleModel",
            "_view_count": null,
            "_view_module": "@jupyter-widgets/base",
            "_view_module_version": "1.2.0",
            "_view_name": "StyleView",
            "bar_color": null,
            "description_width": ""
          }
        },
        "2deb6ac4dd3944d4a9179511094f3c7c": {
          "model_module": "@jupyter-widgets/base",
          "model_module_version": "1.2.0",
          "model_name": "LayoutModel",
          "state": {
            "_model_module": "@jupyter-widgets/base",
            "_model_module_version": "1.2.0",
            "_model_name": "LayoutModel",
            "_view_count": null,
            "_view_module": "@jupyter-widgets/base",
            "_view_module_version": "1.2.0",
            "_view_name": "LayoutView",
            "align_content": null,
            "align_items": null,
            "align_self": null,
            "border": null,
            "bottom": null,
            "display": null,
            "flex": null,
            "flex_flow": null,
            "grid_area": null,
            "grid_auto_columns": null,
            "grid_auto_flow": null,
            "grid_auto_rows": null,
            "grid_column": null,
            "grid_gap": null,
            "grid_row": null,
            "grid_template_areas": null,
            "grid_template_columns": null,
            "grid_template_rows": null,
            "height": null,
            "justify_content": null,
            "justify_items": null,
            "left": null,
            "margin": null,
            "max_height": null,
            "max_width": null,
            "min_height": null,
            "min_width": null,
            "object_fit": null,
            "object_position": null,
            "order": null,
            "overflow": null,
            "overflow_x": null,
            "overflow_y": null,
            "padding": null,
            "right": null,
            "top": null,
            "visibility": null,
            "width": null
          }
        },
        "31067e7b999442ada2332605b2ea8688": {
          "model_module": "@jupyter-widgets/controls",
          "model_module_version": "1.5.0",
          "model_name": "HTMLModel",
          "state": {
            "_dom_classes": [],
            "_model_module": "@jupyter-widgets/controls",
            "_model_module_version": "1.5.0",
            "_model_name": "HTMLModel",
            "_view_count": null,
            "_view_module": "@jupyter-widgets/controls",
            "_view_module_version": "1.5.0",
            "_view_name": "HTMLView",
            "description": "",
            "description_tooltip": null,
            "layout": "IPY_MODEL_2deb6ac4dd3944d4a9179511094f3c7c",
            "placeholder": "​",
            "style": "IPY_MODEL_067989f71b674936a44817eab4881a3d",
            "value": "100%"
          }
        },
        "348705a98535403b96dedf8b5d8c031a": {
          "model_module": "@jupyter-widgets/base",
          "model_module_version": "1.2.0",
          "model_name": "LayoutModel",
          "state": {
            "_model_module": "@jupyter-widgets/base",
            "_model_module_version": "1.2.0",
            "_model_name": "LayoutModel",
            "_view_count": null,
            "_view_module": "@jupyter-widgets/base",
            "_view_module_version": "1.2.0",
            "_view_name": "LayoutView",
            "align_content": null,
            "align_items": null,
            "align_self": null,
            "border": null,
            "bottom": null,
            "display": null,
            "flex": null,
            "flex_flow": null,
            "grid_area": null,
            "grid_auto_columns": null,
            "grid_auto_flow": null,
            "grid_auto_rows": null,
            "grid_column": null,
            "grid_gap": null,
            "grid_row": null,
            "grid_template_areas": null,
            "grid_template_columns": null,
            "grid_template_rows": null,
            "height": null,
            "justify_content": null,
            "justify_items": null,
            "left": null,
            "margin": null,
            "max_height": null,
            "max_width": null,
            "min_height": null,
            "min_width": null,
            "object_fit": null,
            "object_position": null,
            "order": null,
            "overflow": null,
            "overflow_x": null,
            "overflow_y": null,
            "padding": null,
            "right": null,
            "top": null,
            "visibility": null,
            "width": null
          }
        },
        "37a49366ad56490f9992e7c56cc2f7f4": {
          "model_module": "@jupyter-widgets/base",
          "model_module_version": "1.2.0",
          "model_name": "LayoutModel",
          "state": {
            "_model_module": "@jupyter-widgets/base",
            "_model_module_version": "1.2.0",
            "_model_name": "LayoutModel",
            "_view_count": null,
            "_view_module": "@jupyter-widgets/base",
            "_view_module_version": "1.2.0",
            "_view_name": "LayoutView",
            "align_content": null,
            "align_items": null,
            "align_self": null,
            "border": null,
            "bottom": null,
            "display": null,
            "flex": null,
            "flex_flow": null,
            "grid_area": null,
            "grid_auto_columns": null,
            "grid_auto_flow": null,
            "grid_auto_rows": null,
            "grid_column": null,
            "grid_gap": null,
            "grid_row": null,
            "grid_template_areas": null,
            "grid_template_columns": null,
            "grid_template_rows": null,
            "height": null,
            "justify_content": null,
            "justify_items": null,
            "left": null,
            "margin": null,
            "max_height": null,
            "max_width": null,
            "min_height": null,
            "min_width": null,
            "object_fit": null,
            "object_position": null,
            "order": null,
            "overflow": null,
            "overflow_x": null,
            "overflow_y": null,
            "padding": null,
            "right": null,
            "top": null,
            "visibility": null,
            "width": null
          }
        },
        "39620e69b41f4e83bc8ba954cb796a1f": {
          "model_module": "@jupyter-widgets/base",
          "model_module_version": "1.2.0",
          "model_name": "LayoutModel",
          "state": {
            "_model_module": "@jupyter-widgets/base",
            "_model_module_version": "1.2.0",
            "_model_name": "LayoutModel",
            "_view_count": null,
            "_view_module": "@jupyter-widgets/base",
            "_view_module_version": "1.2.0",
            "_view_name": "LayoutView",
            "align_content": null,
            "align_items": null,
            "align_self": null,
            "border": null,
            "bottom": null,
            "display": null,
            "flex": null,
            "flex_flow": null,
            "grid_area": null,
            "grid_auto_columns": null,
            "grid_auto_flow": null,
            "grid_auto_rows": null,
            "grid_column": null,
            "grid_gap": null,
            "grid_row": null,
            "grid_template_areas": null,
            "grid_template_columns": null,
            "grid_template_rows": null,
            "height": null,
            "justify_content": null,
            "justify_items": null,
            "left": null,
            "margin": null,
            "max_height": null,
            "max_width": null,
            "min_height": null,
            "min_width": null,
            "object_fit": null,
            "object_position": null,
            "order": null,
            "overflow": null,
            "overflow_x": null,
            "overflow_y": null,
            "padding": null,
            "right": null,
            "top": null,
            "visibility": null,
            "width": null
          }
        },
        "3f6e599725694f32b85c8b9af550b7f9": {
          "model_module": "@jupyter-widgets/controls",
          "model_module_version": "1.5.0",
          "model_name": "HBoxModel",
          "state": {
            "_dom_classes": [],
            "_model_module": "@jupyter-widgets/controls",
            "_model_module_version": "1.5.0",
            "_model_name": "HBoxModel",
            "_view_count": null,
            "_view_module": "@jupyter-widgets/controls",
            "_view_module_version": "1.5.0",
            "_view_name": "HBoxView",
            "box_style": "",
            "children": [
              "IPY_MODEL_31067e7b999442ada2332605b2ea8688",
              "IPY_MODEL_46fdd802d51843259d1de9f032d41036",
              "IPY_MODEL_f784613e7e674e51b1364d2cdec9ffb0"
            ],
            "layout": "IPY_MODEL_39620e69b41f4e83bc8ba954cb796a1f"
          }
        },
        "402ca17415314d57bf31c4735c12d7c1": {
          "model_module": "@jupyter-widgets/controls",
          "model_module_version": "1.5.0",
          "model_name": "FloatProgressModel",
          "state": {
            "_dom_classes": [],
            "_model_module": "@jupyter-widgets/controls",
            "_model_module_version": "1.5.0",
            "_model_name": "FloatProgressModel",
            "_view_count": null,
            "_view_module": "@jupyter-widgets/controls",
            "_view_module_version": "1.5.0",
            "_view_name": "ProgressView",
            "bar_style": "success",
            "description": "",
            "description_tooltip": null,
            "layout": "IPY_MODEL_0965094cefa2432aa9775ad95949ae5b",
            "max": 1648877,
            "min": 0,
            "orientation": "horizontal",
            "style": "IPY_MODEL_2c02da96fa984399abc9c76cacd63071",
            "value": 1648877
          }
        },
        "43f2c597031e4691acdd382a76de7479": {
          "model_module": "@jupyter-widgets/controls",
          "model_module_version": "1.5.0",
          "model_name": "HTMLModel",
          "state": {
            "_dom_classes": [],
            "_model_module": "@jupyter-widgets/controls",
            "_model_module_version": "1.5.0",
            "_model_name": "HTMLModel",
            "_view_count": null,
            "_view_module": "@jupyter-widgets/controls",
            "_view_module_version": "1.5.0",
            "_view_name": "HTMLView",
            "description": "",
            "description_tooltip": null,
            "layout": "IPY_MODEL_e98ab79039ef40208e70d0394f90f138",
            "placeholder": "​",
            "style": "IPY_MODEL_ab5185eefe0646eab18181d66b25ecd6",
            "value": " 28881/28881 [00:00&lt;00:00, 2390631.60it/s]"
          }
        },
        "45381f954eaa46a59be5fb226dd9ccaa": {
          "model_module": "@jupyter-widgets/controls",
          "model_module_version": "1.5.0",
          "model_name": "FloatProgressModel",
          "state": {
            "_dom_classes": [],
            "_model_module": "@jupyter-widgets/controls",
            "_model_module_version": "1.5.0",
            "_model_name": "FloatProgressModel",
            "_view_count": null,
            "_view_module": "@jupyter-widgets/controls",
            "_view_module_version": "1.5.0",
            "_view_name": "ProgressView",
            "bar_style": "success",
            "description": "",
            "description_tooltip": null,
            "layout": "IPY_MODEL_878d8b5ea3624f84adb249417849c042",
            "max": 28881,
            "min": 0,
            "orientation": "horizontal",
            "style": "IPY_MODEL_200038f37117410392709e60a2739bcc",
            "value": 28881
          }
        },
        "46fdd802d51843259d1de9f032d41036": {
          "model_module": "@jupyter-widgets/controls",
          "model_module_version": "1.5.0",
          "model_name": "FloatProgressModel",
          "state": {
            "_dom_classes": [],
            "_model_module": "@jupyter-widgets/controls",
            "_model_module_version": "1.5.0",
            "_model_name": "FloatProgressModel",
            "_view_count": null,
            "_view_module": "@jupyter-widgets/controls",
            "_view_module_version": "1.5.0",
            "_view_name": "ProgressView",
            "bar_style": "success",
            "description": "",
            "description_tooltip": null,
            "layout": "IPY_MODEL_06d4ac938f9e44ffaee8729e45f52c5e",
            "max": 28881,
            "min": 0,
            "orientation": "horizontal",
            "style": "IPY_MODEL_d01bd48690ba41bba1ddb16ac1b76826",
            "value": 28881
          }
        },
        "4ed403ec7992496ea2b86ab34c77b20c": {
          "model_module": "@jupyter-widgets/base",
          "model_module_version": "1.2.0",
          "model_name": "LayoutModel",
          "state": {
            "_model_module": "@jupyter-widgets/base",
            "_model_module_version": "1.2.0",
            "_model_name": "LayoutModel",
            "_view_count": null,
            "_view_module": "@jupyter-widgets/base",
            "_view_module_version": "1.2.0",
            "_view_name": "LayoutView",
            "align_content": null,
            "align_items": null,
            "align_self": null,
            "border": null,
            "bottom": null,
            "display": null,
            "flex": null,
            "flex_flow": null,
            "grid_area": null,
            "grid_auto_columns": null,
            "grid_auto_flow": null,
            "grid_auto_rows": null,
            "grid_column": null,
            "grid_gap": null,
            "grid_row": null,
            "grid_template_areas": null,
            "grid_template_columns": null,
            "grid_template_rows": null,
            "height": null,
            "justify_content": null,
            "justify_items": null,
            "left": null,
            "margin": null,
            "max_height": null,
            "max_width": null,
            "min_height": null,
            "min_width": null,
            "object_fit": null,
            "object_position": null,
            "order": null,
            "overflow": null,
            "overflow_x": null,
            "overflow_y": null,
            "padding": null,
            "right": null,
            "top": null,
            "visibility": null,
            "width": null
          }
        },
        "4f106680961c482e9eb34cdfabe35754": {
          "model_module": "@jupyter-widgets/controls",
          "model_module_version": "1.5.0",
          "model_name": "HTMLModel",
          "state": {
            "_dom_classes": [],
            "_model_module": "@jupyter-widgets/controls",
            "_model_module_version": "1.5.0",
            "_model_name": "HTMLModel",
            "_view_count": null,
            "_view_module": "@jupyter-widgets/controls",
            "_view_module_version": "1.5.0",
            "_view_name": "HTMLView",
            "description": "",
            "description_tooltip": null,
            "layout": "IPY_MODEL_a3c96c1c86ae40fd81f0cd696725446f",
            "placeholder": "​",
            "style": "IPY_MODEL_4f99a5e03cab4396b66aaba34718a6d2",
            "value": "100%"
          }
        },
        "4f99a5e03cab4396b66aaba34718a6d2": {
          "model_module": "@jupyter-widgets/controls",
          "model_module_version": "1.5.0",
          "model_name": "DescriptionStyleModel",
          "state": {
            "_model_module": "@jupyter-widgets/controls",
            "_model_module_version": "1.5.0",
            "_model_name": "DescriptionStyleModel",
            "_view_count": null,
            "_view_module": "@jupyter-widgets/base",
            "_view_module_version": "1.2.0",
            "_view_name": "StyleView",
            "description_width": ""
          }
        },
        "5614898f41ae468ba404d9d4e27f3284": {
          "model_module": "@jupyter-widgets/controls",
          "model_module_version": "1.5.0",
          "model_name": "ProgressStyleModel",
          "state": {
            "_model_module": "@jupyter-widgets/controls",
            "_model_module_version": "1.5.0",
            "_model_name": "ProgressStyleModel",
            "_view_count": null,
            "_view_module": "@jupyter-widgets/base",
            "_view_module_version": "1.2.0",
            "_view_name": "StyleView",
            "bar_color": null,
            "description_width": ""
          }
        },
        "57ee29feedc64d3ca312cdab50a34481": {
          "model_module": "@jupyter-widgets/controls",
          "model_module_version": "1.5.0",
          "model_name": "DescriptionStyleModel",
          "state": {
            "_model_module": "@jupyter-widgets/controls",
            "_model_module_version": "1.5.0",
            "_model_name": "DescriptionStyleModel",
            "_view_count": null,
            "_view_module": "@jupyter-widgets/base",
            "_view_module_version": "1.2.0",
            "_view_name": "StyleView",
            "description_width": ""
          }
        },
        "59a77b0488364d2bbfb6baaafd58597a": {
          "model_module": "@jupyter-widgets/controls",
          "model_module_version": "1.5.0",
          "model_name": "HBoxModel",
          "state": {
            "_dom_classes": [],
            "_model_module": "@jupyter-widgets/controls",
            "_model_module_version": "1.5.0",
            "_model_name": "HBoxModel",
            "_view_count": null,
            "_view_module": "@jupyter-widgets/controls",
            "_view_module_version": "1.5.0",
            "_view_name": "HBoxView",
            "box_style": "",
            "children": [
              "IPY_MODEL_819bd9495ed541969cdc19534fca59d3",
              "IPY_MODEL_402ca17415314d57bf31c4735c12d7c1",
              "IPY_MODEL_952f345eafeb4a03b33092889041c624"
            ],
            "layout": "IPY_MODEL_89bd3e22d44c40be81ca121d507d570a"
          }
        },
        "5c6e6c36b17c402e82513adedef6d015": {
          "model_module": "@jupyter-widgets/base",
          "model_module_version": "1.2.0",
          "model_name": "LayoutModel",
          "state": {
            "_model_module": "@jupyter-widgets/base",
            "_model_module_version": "1.2.0",
            "_model_name": "LayoutModel",
            "_view_count": null,
            "_view_module": "@jupyter-widgets/base",
            "_view_module_version": "1.2.0",
            "_view_name": "LayoutView",
            "align_content": null,
            "align_items": null,
            "align_self": null,
            "border": null,
            "bottom": null,
            "display": null,
            "flex": null,
            "flex_flow": null,
            "grid_area": null,
            "grid_auto_columns": null,
            "grid_auto_flow": null,
            "grid_auto_rows": null,
            "grid_column": null,
            "grid_gap": null,
            "grid_row": null,
            "grid_template_areas": null,
            "grid_template_columns": null,
            "grid_template_rows": null,
            "height": null,
            "justify_content": null,
            "justify_items": null,
            "left": null,
            "margin": null,
            "max_height": null,
            "max_width": null,
            "min_height": null,
            "min_width": null,
            "object_fit": null,
            "object_position": null,
            "order": null,
            "overflow": null,
            "overflow_x": null,
            "overflow_y": null,
            "padding": null,
            "right": null,
            "top": null,
            "visibility": null,
            "width": null
          }
        },
        "608bece4c6834f5eaee0a549ce316e7c": {
          "model_module": "@jupyter-widgets/controls",
          "model_module_version": "1.5.0",
          "model_name": "DescriptionStyleModel",
          "state": {
            "_model_module": "@jupyter-widgets/controls",
            "_model_module_version": "1.5.0",
            "_model_name": "DescriptionStyleModel",
            "_view_count": null,
            "_view_module": "@jupyter-widgets/base",
            "_view_module_version": "1.2.0",
            "_view_name": "StyleView",
            "description_width": ""
          }
        },
        "6a21e9edf3544e2ba4d8253bcd2d1e7a": {
          "model_module": "@jupyter-widgets/controls",
          "model_module_version": "1.5.0",
          "model_name": "HBoxModel",
          "state": {
            "_dom_classes": [],
            "_model_module": "@jupyter-widgets/controls",
            "_model_module_version": "1.5.0",
            "_model_name": "HBoxModel",
            "_view_count": null,
            "_view_module": "@jupyter-widgets/controls",
            "_view_module_version": "1.5.0",
            "_view_name": "HBoxView",
            "box_style": "",
            "children": [
              "IPY_MODEL_259c344ed83541dbbeef18c308491141",
              "IPY_MODEL_27f2cbc82e4a4574b810ca2571ec8c5d",
              "IPY_MODEL_821ad1721d6a41d89e9e8e09b766add8"
            ],
            "layout": "IPY_MODEL_be65e8ec066a4d32a922ec87dd35d5d8"
          }
        },
        "70019b70c6a04dc4b8fd4b95511a7cce": {
          "model_module": "@jupyter-widgets/controls",
          "model_module_version": "1.5.0",
          "model_name": "HTMLModel",
          "state": {
            "_dom_classes": [],
            "_model_module": "@jupyter-widgets/controls",
            "_model_module_version": "1.5.0",
            "_model_name": "HTMLModel",
            "_view_count": null,
            "_view_module": "@jupyter-widgets/controls",
            "_view_module_version": "1.5.0",
            "_view_name": "HTMLView",
            "description": "",
            "description_tooltip": null,
            "layout": "IPY_MODEL_e8ec3f05f7b341b3859c0b970051fba8",
            "placeholder": "​",
            "style": "IPY_MODEL_12c2eb6b9f44424eb213f1308ed731fd",
            "value": "100%"
          }
        },
        "7006613dc6074357af95b1d5749cc8c7": {
          "model_module": "@jupyter-widgets/controls",
          "model_module_version": "1.5.0",
          "model_name": "DescriptionStyleModel",
          "state": {
            "_model_module": "@jupyter-widgets/controls",
            "_model_module_version": "1.5.0",
            "_model_name": "DescriptionStyleModel",
            "_view_count": null,
            "_view_module": "@jupyter-widgets/base",
            "_view_module_version": "1.2.0",
            "_view_name": "StyleView",
            "description_width": ""
          }
        },
        "78448c4025784f2993f44c61a34d2fe7": {
          "model_module": "@jupyter-widgets/controls",
          "model_module_version": "1.5.0",
          "model_name": "FloatProgressModel",
          "state": {
            "_dom_classes": [],
            "_model_module": "@jupyter-widgets/controls",
            "_model_module_version": "1.5.0",
            "_model_name": "FloatProgressModel",
            "_view_count": null,
            "_view_module": "@jupyter-widgets/controls",
            "_view_module_version": "1.5.0",
            "_view_name": "ProgressView",
            "bar_style": "success",
            "description": "",
            "description_tooltip": null,
            "layout": "IPY_MODEL_1dc4b7061da14817a476a94f5c26cce9",
            "max": 9912422,
            "min": 0,
            "orientation": "horizontal",
            "style": "IPY_MODEL_e6e150bddb7349eeb50f955a77e6cfeb",
            "value": 9912422
          }
        },
        "819bd9495ed541969cdc19534fca59d3": {
          "model_module": "@jupyter-widgets/controls",
          "model_module_version": "1.5.0",
          "model_name": "HTMLModel",
          "state": {
            "_dom_classes": [],
            "_model_module": "@jupyter-widgets/controls",
            "_model_module_version": "1.5.0",
            "_model_name": "HTMLModel",
            "_view_count": null,
            "_view_module": "@jupyter-widgets/controls",
            "_view_module_version": "1.5.0",
            "_view_name": "HTMLView",
            "description": "",
            "description_tooltip": null,
            "layout": "IPY_MODEL_c6a013506f2e4634b600027144d74144",
            "placeholder": "​",
            "style": "IPY_MODEL_e1c95580f182467d9d75db0b9e8ccf81",
            "value": "100%"
          }
        },
        "821ad1721d6a41d89e9e8e09b766add8": {
          "model_module": "@jupyter-widgets/controls",
          "model_module_version": "1.5.0",
          "model_name": "HTMLModel",
          "state": {
            "_dom_classes": [],
            "_model_module": "@jupyter-widgets/controls",
            "_model_module_version": "1.5.0",
            "_model_name": "HTMLModel",
            "_view_count": null,
            "_view_module": "@jupyter-widgets/controls",
            "_view_module_version": "1.5.0",
            "_view_name": "HTMLView",
            "description": "",
            "description_tooltip": null,
            "layout": "IPY_MODEL_078c83d2943b45ab856a98c6958fcfc7",
            "placeholder": "​",
            "style": "IPY_MODEL_9028da2ec5964e56ba57461f7ff8ef25",
            "value": " 9912422/9912422 [00:00&lt;00:00, 77294775.27it/s]"
          }
        },
        "829698792cd140ee8adcde42d22bb750": {
          "model_module": "@jupyter-widgets/base",
          "model_module_version": "1.2.0",
          "model_name": "LayoutModel",
          "state": {
            "_model_module": "@jupyter-widgets/base",
            "_model_module_version": "1.2.0",
            "_model_name": "LayoutModel",
            "_view_count": null,
            "_view_module": "@jupyter-widgets/base",
            "_view_module_version": "1.2.0",
            "_view_name": "LayoutView",
            "align_content": null,
            "align_items": null,
            "align_self": null,
            "border": null,
            "bottom": null,
            "display": null,
            "flex": null,
            "flex_flow": null,
            "grid_area": null,
            "grid_auto_columns": null,
            "grid_auto_flow": null,
            "grid_auto_rows": null,
            "grid_column": null,
            "grid_gap": null,
            "grid_row": null,
            "grid_template_areas": null,
            "grid_template_columns": null,
            "grid_template_rows": null,
            "height": null,
            "justify_content": null,
            "justify_items": null,
            "left": null,
            "margin": null,
            "max_height": null,
            "max_width": null,
            "min_height": null,
            "min_width": null,
            "object_fit": null,
            "object_position": null,
            "order": null,
            "overflow": null,
            "overflow_x": null,
            "overflow_y": null,
            "padding": null,
            "right": null,
            "top": null,
            "visibility": null,
            "width": null
          }
        },
        "84698791606e4bf2ad6f46919a038bdc": {
          "model_module": "@jupyter-widgets/controls",
          "model_module_version": "1.5.0",
          "model_name": "DescriptionStyleModel",
          "state": {
            "_model_module": "@jupyter-widgets/controls",
            "_model_module_version": "1.5.0",
            "_model_name": "DescriptionStyleModel",
            "_view_count": null,
            "_view_module": "@jupyter-widgets/base",
            "_view_module_version": "1.2.0",
            "_view_name": "StyleView",
            "description_width": ""
          }
        },
        "84baa1fff88f4d888fd57af704c2cbac": {
          "model_module": "@jupyter-widgets/controls",
          "model_module_version": "1.5.0",
          "model_name": "DescriptionStyleModel",
          "state": {
            "_model_module": "@jupyter-widgets/controls",
            "_model_module_version": "1.5.0",
            "_model_name": "DescriptionStyleModel",
            "_view_count": null,
            "_view_module": "@jupyter-widgets/base",
            "_view_module_version": "1.2.0",
            "_view_name": "StyleView",
            "description_width": ""
          }
        },
        "878d8b5ea3624f84adb249417849c042": {
          "model_module": "@jupyter-widgets/base",
          "model_module_version": "1.2.0",
          "model_name": "LayoutModel",
          "state": {
            "_model_module": "@jupyter-widgets/base",
            "_model_module_version": "1.2.0",
            "_model_name": "LayoutModel",
            "_view_count": null,
            "_view_module": "@jupyter-widgets/base",
            "_view_module_version": "1.2.0",
            "_view_name": "LayoutView",
            "align_content": null,
            "align_items": null,
            "align_self": null,
            "border": null,
            "bottom": null,
            "display": null,
            "flex": null,
            "flex_flow": null,
            "grid_area": null,
            "grid_auto_columns": null,
            "grid_auto_flow": null,
            "grid_auto_rows": null,
            "grid_column": null,
            "grid_gap": null,
            "grid_row": null,
            "grid_template_areas": null,
            "grid_template_columns": null,
            "grid_template_rows": null,
            "height": null,
            "justify_content": null,
            "justify_items": null,
            "left": null,
            "margin": null,
            "max_height": null,
            "max_width": null,
            "min_height": null,
            "min_width": null,
            "object_fit": null,
            "object_position": null,
            "order": null,
            "overflow": null,
            "overflow_x": null,
            "overflow_y": null,
            "padding": null,
            "right": null,
            "top": null,
            "visibility": null,
            "width": null
          }
        },
        "89bd3e22d44c40be81ca121d507d570a": {
          "model_module": "@jupyter-widgets/base",
          "model_module_version": "1.2.0",
          "model_name": "LayoutModel",
          "state": {
            "_model_module": "@jupyter-widgets/base",
            "_model_module_version": "1.2.0",
            "_model_name": "LayoutModel",
            "_view_count": null,
            "_view_module": "@jupyter-widgets/base",
            "_view_module_version": "1.2.0",
            "_view_name": "LayoutView",
            "align_content": null,
            "align_items": null,
            "align_self": null,
            "border": null,
            "bottom": null,
            "display": null,
            "flex": null,
            "flex_flow": null,
            "grid_area": null,
            "grid_auto_columns": null,
            "grid_auto_flow": null,
            "grid_auto_rows": null,
            "grid_column": null,
            "grid_gap": null,
            "grid_row": null,
            "grid_template_areas": null,
            "grid_template_columns": null,
            "grid_template_rows": null,
            "height": null,
            "justify_content": null,
            "justify_items": null,
            "left": null,
            "margin": null,
            "max_height": null,
            "max_width": null,
            "min_height": null,
            "min_width": null,
            "object_fit": null,
            "object_position": null,
            "order": null,
            "overflow": null,
            "overflow_x": null,
            "overflow_y": null,
            "padding": null,
            "right": null,
            "top": null,
            "visibility": null,
            "width": null
          }
        },
        "8d955396d59e4d2288104be3b21c38b7": {
          "model_module": "@jupyter-widgets/base",
          "model_module_version": "1.2.0",
          "model_name": "LayoutModel",
          "state": {
            "_model_module": "@jupyter-widgets/base",
            "_model_module_version": "1.2.0",
            "_model_name": "LayoutModel",
            "_view_count": null,
            "_view_module": "@jupyter-widgets/base",
            "_view_module_version": "1.2.0",
            "_view_name": "LayoutView",
            "align_content": null,
            "align_items": null,
            "align_self": null,
            "border": null,
            "bottom": null,
            "display": null,
            "flex": null,
            "flex_flow": null,
            "grid_area": null,
            "grid_auto_columns": null,
            "grid_auto_flow": null,
            "grid_auto_rows": null,
            "grid_column": null,
            "grid_gap": null,
            "grid_row": null,
            "grid_template_areas": null,
            "grid_template_columns": null,
            "grid_template_rows": null,
            "height": null,
            "justify_content": null,
            "justify_items": null,
            "left": null,
            "margin": null,
            "max_height": null,
            "max_width": null,
            "min_height": null,
            "min_width": null,
            "object_fit": null,
            "object_position": null,
            "order": null,
            "overflow": null,
            "overflow_x": null,
            "overflow_y": null,
            "padding": null,
            "right": null,
            "top": null,
            "visibility": null,
            "width": null
          }
        },
        "8daa78ff0aea45f380f9072dc8335a7c": {
          "model_module": "@jupyter-widgets/controls",
          "model_module_version": "1.5.0",
          "model_name": "HTMLModel",
          "state": {
            "_dom_classes": [],
            "_model_module": "@jupyter-widgets/controls",
            "_model_module_version": "1.5.0",
            "_model_name": "HTMLModel",
            "_view_count": null,
            "_view_module": "@jupyter-widgets/controls",
            "_view_module_version": "1.5.0",
            "_view_name": "HTMLView",
            "description": "",
            "description_tooltip": null,
            "layout": "IPY_MODEL_0d25c847472c4fa5815e2c3d6bf53996",
            "placeholder": "​",
            "style": "IPY_MODEL_a67bede1e59041369b44fb8ca4290f38",
            "value": " 4542/4542 [00:00&lt;00:00, 359586.42it/s]"
          }
        },
        "9028da2ec5964e56ba57461f7ff8ef25": {
          "model_module": "@jupyter-widgets/controls",
          "model_module_version": "1.5.0",
          "model_name": "DescriptionStyleModel",
          "state": {
            "_model_module": "@jupyter-widgets/controls",
            "_model_module_version": "1.5.0",
            "_model_name": "DescriptionStyleModel",
            "_view_count": null,
            "_view_module": "@jupyter-widgets/base",
            "_view_module_version": "1.2.0",
            "_view_name": "StyleView",
            "description_width": ""
          }
        },
        "92a819515986459cb4ec798894c02a7c": {
          "model_module": "@jupyter-widgets/controls",
          "model_module_version": "1.5.0",
          "model_name": "HTMLModel",
          "state": {
            "_dom_classes": [],
            "_model_module": "@jupyter-widgets/controls",
            "_model_module_version": "1.5.0",
            "_model_name": "HTMLModel",
            "_view_count": null,
            "_view_module": "@jupyter-widgets/controls",
            "_view_module_version": "1.5.0",
            "_view_name": "HTMLView",
            "description": "",
            "description_tooltip": null,
            "layout": "IPY_MODEL_29ddec75d0c04dd0aa5a2c09d52a6d78",
            "placeholder": "​",
            "style": "IPY_MODEL_1fceb59ccf9b47d082c95fd301a16c74",
            "value": " 9912422/9912422 [00:00&lt;00:00, 44504359.96it/s]"
          }
        },
        "952f345eafeb4a03b33092889041c624": {
          "model_module": "@jupyter-widgets/controls",
          "model_module_version": "1.5.0",
          "model_name": "HTMLModel",
          "state": {
            "_dom_classes": [],
            "_model_module": "@jupyter-widgets/controls",
            "_model_module_version": "1.5.0",
            "_model_name": "HTMLModel",
            "_view_count": null,
            "_view_module": "@jupyter-widgets/controls",
            "_view_module_version": "1.5.0",
            "_view_name": "HTMLView",
            "description": "",
            "description_tooltip": null,
            "layout": "IPY_MODEL_be49422827b14dfabb50ac086f34c644",
            "placeholder": "​",
            "style": "IPY_MODEL_1f4e9d90d9ca4559934b568bfb059a8a",
            "value": " 1648877/1648877 [00:00&lt;00:00, 22418890.37it/s]"
          }
        },
        "95470e54cde94582a1c7f1d60f6340a2": {
          "model_module": "@jupyter-widgets/controls",
          "model_module_version": "1.5.0",
          "model_name": "ProgressStyleModel",
          "state": {
            "_model_module": "@jupyter-widgets/controls",
            "_model_module_version": "1.5.0",
            "_model_name": "ProgressStyleModel",
            "_view_count": null,
            "_view_module": "@jupyter-widgets/base",
            "_view_module_version": "1.2.0",
            "_view_name": "StyleView",
            "bar_color": null,
            "description_width": ""
          }
        },
        "983e0575e57343d79186c9164e9db32a": {
          "model_module": "@jupyter-widgets/controls",
          "model_module_version": "1.5.0",
          "model_name": "HBoxModel",
          "state": {
            "_dom_classes": [],
            "_model_module": "@jupyter-widgets/controls",
            "_model_module_version": "1.5.0",
            "_model_name": "HBoxModel",
            "_view_count": null,
            "_view_module": "@jupyter-widgets/controls",
            "_view_module_version": "1.5.0",
            "_view_name": "HBoxView",
            "box_style": "",
            "children": [
              "IPY_MODEL_e1b7692402884ab48876305b24c038e6",
              "IPY_MODEL_45381f954eaa46a59be5fb226dd9ccaa",
              "IPY_MODEL_43f2c597031e4691acdd382a76de7479"
            ],
            "layout": "IPY_MODEL_b5cd78f35a3e45d9a2c6c128d2615192"
          }
        },
        "a3c96c1c86ae40fd81f0cd696725446f": {
          "model_module": "@jupyter-widgets/base",
          "model_module_version": "1.2.0",
          "model_name": "LayoutModel",
          "state": {
            "_model_module": "@jupyter-widgets/base",
            "_model_module_version": "1.2.0",
            "_model_name": "LayoutModel",
            "_view_count": null,
            "_view_module": "@jupyter-widgets/base",
            "_view_module_version": "1.2.0",
            "_view_name": "LayoutView",
            "align_content": null,
            "align_items": null,
            "align_self": null,
            "border": null,
            "bottom": null,
            "display": null,
            "flex": null,
            "flex_flow": null,
            "grid_area": null,
            "grid_auto_columns": null,
            "grid_auto_flow": null,
            "grid_auto_rows": null,
            "grid_column": null,
            "grid_gap": null,
            "grid_row": null,
            "grid_template_areas": null,
            "grid_template_columns": null,
            "grid_template_rows": null,
            "height": null,
            "justify_content": null,
            "justify_items": null,
            "left": null,
            "margin": null,
            "max_height": null,
            "max_width": null,
            "min_height": null,
            "min_width": null,
            "object_fit": null,
            "object_position": null,
            "order": null,
            "overflow": null,
            "overflow_x": null,
            "overflow_y": null,
            "padding": null,
            "right": null,
            "top": null,
            "visibility": null,
            "width": null
          }
        },
        "a67bede1e59041369b44fb8ca4290f38": {
          "model_module": "@jupyter-widgets/controls",
          "model_module_version": "1.5.0",
          "model_name": "DescriptionStyleModel",
          "state": {
            "_model_module": "@jupyter-widgets/controls",
            "_model_module_version": "1.5.0",
            "_model_name": "DescriptionStyleModel",
            "_view_count": null,
            "_view_module": "@jupyter-widgets/base",
            "_view_module_version": "1.2.0",
            "_view_name": "StyleView",
            "description_width": ""
          }
        },
        "a91004dfb0884554be97c410f4a859b1": {
          "model_module": "@jupyter-widgets/controls",
          "model_module_version": "1.5.0",
          "model_name": "DescriptionStyleModel",
          "state": {
            "_model_module": "@jupyter-widgets/controls",
            "_model_module_version": "1.5.0",
            "_model_name": "DescriptionStyleModel",
            "_view_count": null,
            "_view_module": "@jupyter-widgets/base",
            "_view_module_version": "1.2.0",
            "_view_name": "StyleView",
            "description_width": ""
          }
        },
        "ab5185eefe0646eab18181d66b25ecd6": {
          "model_module": "@jupyter-widgets/controls",
          "model_module_version": "1.5.0",
          "model_name": "DescriptionStyleModel",
          "state": {
            "_model_module": "@jupyter-widgets/controls",
            "_model_module_version": "1.5.0",
            "_model_name": "DescriptionStyleModel",
            "_view_count": null,
            "_view_module": "@jupyter-widgets/base",
            "_view_module_version": "1.2.0",
            "_view_name": "StyleView",
            "description_width": ""
          }
        },
        "acb6c6f36ef140a3849aa51a002facb2": {
          "model_module": "@jupyter-widgets/base",
          "model_module_version": "1.2.0",
          "model_name": "LayoutModel",
          "state": {
            "_model_module": "@jupyter-widgets/base",
            "_model_module_version": "1.2.0",
            "_model_name": "LayoutModel",
            "_view_count": null,
            "_view_module": "@jupyter-widgets/base",
            "_view_module_version": "1.2.0",
            "_view_name": "LayoutView",
            "align_content": null,
            "align_items": null,
            "align_self": null,
            "border": null,
            "bottom": null,
            "display": null,
            "flex": null,
            "flex_flow": null,
            "grid_area": null,
            "grid_auto_columns": null,
            "grid_auto_flow": null,
            "grid_auto_rows": null,
            "grid_column": null,
            "grid_gap": null,
            "grid_row": null,
            "grid_template_areas": null,
            "grid_template_columns": null,
            "grid_template_rows": null,
            "height": null,
            "justify_content": null,
            "justify_items": null,
            "left": null,
            "margin": null,
            "max_height": null,
            "max_width": null,
            "min_height": null,
            "min_width": null,
            "object_fit": null,
            "object_position": null,
            "order": null,
            "overflow": null,
            "overflow_x": null,
            "overflow_y": null,
            "padding": null,
            "right": null,
            "top": null,
            "visibility": null,
            "width": null
          }
        },
        "ae403b81748842aa812ea77b2a0a3b7b": {
          "model_module": "@jupyter-widgets/base",
          "model_module_version": "1.2.0",
          "model_name": "LayoutModel",
          "state": {
            "_model_module": "@jupyter-widgets/base",
            "_model_module_version": "1.2.0",
            "_model_name": "LayoutModel",
            "_view_count": null,
            "_view_module": "@jupyter-widgets/base",
            "_view_module_version": "1.2.0",
            "_view_name": "LayoutView",
            "align_content": null,
            "align_items": null,
            "align_self": null,
            "border": null,
            "bottom": null,
            "display": null,
            "flex": null,
            "flex_flow": null,
            "grid_area": null,
            "grid_auto_columns": null,
            "grid_auto_flow": null,
            "grid_auto_rows": null,
            "grid_column": null,
            "grid_gap": null,
            "grid_row": null,
            "grid_template_areas": null,
            "grid_template_columns": null,
            "grid_template_rows": null,
            "height": null,
            "justify_content": null,
            "justify_items": null,
            "left": null,
            "margin": null,
            "max_height": null,
            "max_width": null,
            "min_height": null,
            "min_width": null,
            "object_fit": null,
            "object_position": null,
            "order": null,
            "overflow": null,
            "overflow_x": null,
            "overflow_y": null,
            "padding": null,
            "right": null,
            "top": null,
            "visibility": null,
            "width": null
          }
        },
        "b3b5cfd7fdf04046bc568c6277c848dd": {
          "model_module": "@jupyter-widgets/base",
          "model_module_version": "1.2.0",
          "model_name": "LayoutModel",
          "state": {
            "_model_module": "@jupyter-widgets/base",
            "_model_module_version": "1.2.0",
            "_model_name": "LayoutModel",
            "_view_count": null,
            "_view_module": "@jupyter-widgets/base",
            "_view_module_version": "1.2.0",
            "_view_name": "LayoutView",
            "align_content": null,
            "align_items": null,
            "align_self": null,
            "border": null,
            "bottom": null,
            "display": null,
            "flex": null,
            "flex_flow": null,
            "grid_area": null,
            "grid_auto_columns": null,
            "grid_auto_flow": null,
            "grid_auto_rows": null,
            "grid_column": null,
            "grid_gap": null,
            "grid_row": null,
            "grid_template_areas": null,
            "grid_template_columns": null,
            "grid_template_rows": null,
            "height": null,
            "justify_content": null,
            "justify_items": null,
            "left": null,
            "margin": null,
            "max_height": null,
            "max_width": null,
            "min_height": null,
            "min_width": null,
            "object_fit": null,
            "object_position": null,
            "order": null,
            "overflow": null,
            "overflow_x": null,
            "overflow_y": null,
            "padding": null,
            "right": null,
            "top": null,
            "visibility": null,
            "width": null
          }
        },
        "b5cd78f35a3e45d9a2c6c128d2615192": {
          "model_module": "@jupyter-widgets/base",
          "model_module_version": "1.2.0",
          "model_name": "LayoutModel",
          "state": {
            "_model_module": "@jupyter-widgets/base",
            "_model_module_version": "1.2.0",
            "_model_name": "LayoutModel",
            "_view_count": null,
            "_view_module": "@jupyter-widgets/base",
            "_view_module_version": "1.2.0",
            "_view_name": "LayoutView",
            "align_content": null,
            "align_items": null,
            "align_self": null,
            "border": null,
            "bottom": null,
            "display": null,
            "flex": null,
            "flex_flow": null,
            "grid_area": null,
            "grid_auto_columns": null,
            "grid_auto_flow": null,
            "grid_auto_rows": null,
            "grid_column": null,
            "grid_gap": null,
            "grid_row": null,
            "grid_template_areas": null,
            "grid_template_columns": null,
            "grid_template_rows": null,
            "height": null,
            "justify_content": null,
            "justify_items": null,
            "left": null,
            "margin": null,
            "max_height": null,
            "max_width": null,
            "min_height": null,
            "min_width": null,
            "object_fit": null,
            "object_position": null,
            "order": null,
            "overflow": null,
            "overflow_x": null,
            "overflow_y": null,
            "padding": null,
            "right": null,
            "top": null,
            "visibility": null,
            "width": null
          }
        },
        "be49422827b14dfabb50ac086f34c644": {
          "model_module": "@jupyter-widgets/base",
          "model_module_version": "1.2.0",
          "model_name": "LayoutModel",
          "state": {
            "_model_module": "@jupyter-widgets/base",
            "_model_module_version": "1.2.0",
            "_model_name": "LayoutModel",
            "_view_count": null,
            "_view_module": "@jupyter-widgets/base",
            "_view_module_version": "1.2.0",
            "_view_name": "LayoutView",
            "align_content": null,
            "align_items": null,
            "align_self": null,
            "border": null,
            "bottom": null,
            "display": null,
            "flex": null,
            "flex_flow": null,
            "grid_area": null,
            "grid_auto_columns": null,
            "grid_auto_flow": null,
            "grid_auto_rows": null,
            "grid_column": null,
            "grid_gap": null,
            "grid_row": null,
            "grid_template_areas": null,
            "grid_template_columns": null,
            "grid_template_rows": null,
            "height": null,
            "justify_content": null,
            "justify_items": null,
            "left": null,
            "margin": null,
            "max_height": null,
            "max_width": null,
            "min_height": null,
            "min_width": null,
            "object_fit": null,
            "object_position": null,
            "order": null,
            "overflow": null,
            "overflow_x": null,
            "overflow_y": null,
            "padding": null,
            "right": null,
            "top": null,
            "visibility": null,
            "width": null
          }
        },
        "be65e8ec066a4d32a922ec87dd35d5d8": {
          "model_module": "@jupyter-widgets/base",
          "model_module_version": "1.2.0",
          "model_name": "LayoutModel",
          "state": {
            "_model_module": "@jupyter-widgets/base",
            "_model_module_version": "1.2.0",
            "_model_name": "LayoutModel",
            "_view_count": null,
            "_view_module": "@jupyter-widgets/base",
            "_view_module_version": "1.2.0",
            "_view_name": "LayoutView",
            "align_content": null,
            "align_items": null,
            "align_self": null,
            "border": null,
            "bottom": null,
            "display": null,
            "flex": null,
            "flex_flow": null,
            "grid_area": null,
            "grid_auto_columns": null,
            "grid_auto_flow": null,
            "grid_auto_rows": null,
            "grid_column": null,
            "grid_gap": null,
            "grid_row": null,
            "grid_template_areas": null,
            "grid_template_columns": null,
            "grid_template_rows": null,
            "height": null,
            "justify_content": null,
            "justify_items": null,
            "left": null,
            "margin": null,
            "max_height": null,
            "max_width": null,
            "min_height": null,
            "min_width": null,
            "object_fit": null,
            "object_position": null,
            "order": null,
            "overflow": null,
            "overflow_x": null,
            "overflow_y": null,
            "padding": null,
            "right": null,
            "top": null,
            "visibility": null,
            "width": null
          }
        },
        "c07b49f82acd4988bbd8f065b20c1151": {
          "model_module": "@jupyter-widgets/base",
          "model_module_version": "1.2.0",
          "model_name": "LayoutModel",
          "state": {
            "_model_module": "@jupyter-widgets/base",
            "_model_module_version": "1.2.0",
            "_model_name": "LayoutModel",
            "_view_count": null,
            "_view_module": "@jupyter-widgets/base",
            "_view_module_version": "1.2.0",
            "_view_name": "LayoutView",
            "align_content": null,
            "align_items": null,
            "align_self": null,
            "border": null,
            "bottom": null,
            "display": null,
            "flex": null,
            "flex_flow": null,
            "grid_area": null,
            "grid_auto_columns": null,
            "grid_auto_flow": null,
            "grid_auto_rows": null,
            "grid_column": null,
            "grid_gap": null,
            "grid_row": null,
            "grid_template_areas": null,
            "grid_template_columns": null,
            "grid_template_rows": null,
            "height": null,
            "justify_content": null,
            "justify_items": null,
            "left": null,
            "margin": null,
            "max_height": null,
            "max_width": null,
            "min_height": null,
            "min_width": null,
            "object_fit": null,
            "object_position": null,
            "order": null,
            "overflow": null,
            "overflow_x": null,
            "overflow_y": null,
            "padding": null,
            "right": null,
            "top": null,
            "visibility": null,
            "width": null
          }
        },
        "c6166a5a3fd340929ade411a93b9ad00": {
          "model_module": "@jupyter-widgets/base",
          "model_module_version": "1.2.0",
          "model_name": "LayoutModel",
          "state": {
            "_model_module": "@jupyter-widgets/base",
            "_model_module_version": "1.2.0",
            "_model_name": "LayoutModel",
            "_view_count": null,
            "_view_module": "@jupyter-widgets/base",
            "_view_module_version": "1.2.0",
            "_view_name": "LayoutView",
            "align_content": null,
            "align_items": null,
            "align_self": null,
            "border": null,
            "bottom": null,
            "display": null,
            "flex": null,
            "flex_flow": null,
            "grid_area": null,
            "grid_auto_columns": null,
            "grid_auto_flow": null,
            "grid_auto_rows": null,
            "grid_column": null,
            "grid_gap": null,
            "grid_row": null,
            "grid_template_areas": null,
            "grid_template_columns": null,
            "grid_template_rows": null,
            "height": null,
            "justify_content": null,
            "justify_items": null,
            "left": null,
            "margin": null,
            "max_height": null,
            "max_width": null,
            "min_height": null,
            "min_width": null,
            "object_fit": null,
            "object_position": null,
            "order": null,
            "overflow": null,
            "overflow_x": null,
            "overflow_y": null,
            "padding": null,
            "right": null,
            "top": null,
            "visibility": null,
            "width": null
          }
        },
        "c6a013506f2e4634b600027144d74144": {
          "model_module": "@jupyter-widgets/base",
          "model_module_version": "1.2.0",
          "model_name": "LayoutModel",
          "state": {
            "_model_module": "@jupyter-widgets/base",
            "_model_module_version": "1.2.0",
            "_model_name": "LayoutModel",
            "_view_count": null,
            "_view_module": "@jupyter-widgets/base",
            "_view_module_version": "1.2.0",
            "_view_name": "LayoutView",
            "align_content": null,
            "align_items": null,
            "align_self": null,
            "border": null,
            "bottom": null,
            "display": null,
            "flex": null,
            "flex_flow": null,
            "grid_area": null,
            "grid_auto_columns": null,
            "grid_auto_flow": null,
            "grid_auto_rows": null,
            "grid_column": null,
            "grid_gap": null,
            "grid_row": null,
            "grid_template_areas": null,
            "grid_template_columns": null,
            "grid_template_rows": null,
            "height": null,
            "justify_content": null,
            "justify_items": null,
            "left": null,
            "margin": null,
            "max_height": null,
            "max_width": null,
            "min_height": null,
            "min_width": null,
            "object_fit": null,
            "object_position": null,
            "order": null,
            "overflow": null,
            "overflow_x": null,
            "overflow_y": null,
            "padding": null,
            "right": null,
            "top": null,
            "visibility": null,
            "width": null
          }
        },
        "cfaaba0a554f4516b36e930cee7e07a0": {
          "model_module": "@jupyter-widgets/controls",
          "model_module_version": "1.5.0",
          "model_name": "HBoxModel",
          "state": {
            "_dom_classes": [],
            "_model_module": "@jupyter-widgets/controls",
            "_model_module_version": "1.5.0",
            "_model_name": "HBoxModel",
            "_view_count": null,
            "_view_module": "@jupyter-widgets/controls",
            "_view_module_version": "1.5.0",
            "_view_name": "HBoxView",
            "box_style": "",
            "children": [
              "IPY_MODEL_065760f523dd482b85208e8583ea7a2a",
              "IPY_MODEL_78448c4025784f2993f44c61a34d2fe7",
              "IPY_MODEL_92a819515986459cb4ec798894c02a7c"
            ],
            "layout": "IPY_MODEL_348705a98535403b96dedf8b5d8c031a"
          }
        },
        "d01bd48690ba41bba1ddb16ac1b76826": {
          "model_module": "@jupyter-widgets/controls",
          "model_module_version": "1.5.0",
          "model_name": "ProgressStyleModel",
          "state": {
            "_model_module": "@jupyter-widgets/controls",
            "_model_module_version": "1.5.0",
            "_model_name": "ProgressStyleModel",
            "_view_count": null,
            "_view_module": "@jupyter-widgets/base",
            "_view_module_version": "1.2.0",
            "_view_name": "StyleView",
            "bar_color": null,
            "description_width": ""
          }
        },
        "d2154aff65d54474bd53cb616a331f53": {
          "model_module": "@jupyter-widgets/controls",
          "model_module_version": "1.5.0",
          "model_name": "HBoxModel",
          "state": {
            "_dom_classes": [],
            "_model_module": "@jupyter-widgets/controls",
            "_model_module_version": "1.5.0",
            "_model_name": "HBoxModel",
            "_view_count": null,
            "_view_module": "@jupyter-widgets/controls",
            "_view_module_version": "1.5.0",
            "_view_name": "HBoxView",
            "box_style": "",
            "children": [
              "IPY_MODEL_27ca69e2d3ee44c0b440ceba538fe552",
              "IPY_MODEL_253f4e0a86594d52921d8e55c0fc95ec",
              "IPY_MODEL_e90bf066e1c84ce081b72225102fe8fa"
            ],
            "layout": "IPY_MODEL_5c6e6c36b17c402e82513adedef6d015"
          }
        },
        "d31804196b604cd9be56e348044a9183": {
          "model_module": "@jupyter-widgets/controls",
          "model_module_version": "1.5.0",
          "model_name": "ProgressStyleModel",
          "state": {
            "_model_module": "@jupyter-widgets/controls",
            "_model_module_version": "1.5.0",
            "_model_name": "ProgressStyleModel",
            "_view_count": null,
            "_view_module": "@jupyter-widgets/base",
            "_view_module_version": "1.2.0",
            "_view_name": "StyleView",
            "bar_color": null,
            "description_width": ""
          }
        },
        "da7dd64ca66641008012ff869823629e": {
          "model_module": "@jupyter-widgets/controls",
          "model_module_version": "1.5.0",
          "model_name": "HTMLModel",
          "state": {
            "_dom_classes": [],
            "_model_module": "@jupyter-widgets/controls",
            "_model_module_version": "1.5.0",
            "_model_name": "HTMLModel",
            "_view_count": null,
            "_view_module": "@jupyter-widgets/controls",
            "_view_module_version": "1.5.0",
            "_view_name": "HTMLView",
            "description": "",
            "description_tooltip": null,
            "layout": "IPY_MODEL_2ba828fe75e54b4cb3c7965aacedab9f",
            "placeholder": "​",
            "style": "IPY_MODEL_608bece4c6834f5eaee0a549ce316e7c",
            "value": " 1648877/1648877 [00:00&lt;00:00, 22860863.86it/s]"
          }
        },
        "dc8a7a274de242dd88fef38adb81aa35": {
          "model_module": "@jupyter-widgets/base",
          "model_module_version": "1.2.0",
          "model_name": "LayoutModel",
          "state": {
            "_model_module": "@jupyter-widgets/base",
            "_model_module_version": "1.2.0",
            "_model_name": "LayoutModel",
            "_view_count": null,
            "_view_module": "@jupyter-widgets/base",
            "_view_module_version": "1.2.0",
            "_view_name": "LayoutView",
            "align_content": null,
            "align_items": null,
            "align_self": null,
            "border": null,
            "bottom": null,
            "display": null,
            "flex": null,
            "flex_flow": null,
            "grid_area": null,
            "grid_auto_columns": null,
            "grid_auto_flow": null,
            "grid_auto_rows": null,
            "grid_column": null,
            "grid_gap": null,
            "grid_row": null,
            "grid_template_areas": null,
            "grid_template_columns": null,
            "grid_template_rows": null,
            "height": null,
            "justify_content": null,
            "justify_items": null,
            "left": null,
            "margin": null,
            "max_height": null,
            "max_width": null,
            "min_height": null,
            "min_width": null,
            "object_fit": null,
            "object_position": null,
            "order": null,
            "overflow": null,
            "overflow_x": null,
            "overflow_y": null,
            "padding": null,
            "right": null,
            "top": null,
            "visibility": null,
            "width": null
          }
        },
        "e1b7692402884ab48876305b24c038e6": {
          "model_module": "@jupyter-widgets/controls",
          "model_module_version": "1.5.0",
          "model_name": "HTMLModel",
          "state": {
            "_dom_classes": [],
            "_model_module": "@jupyter-widgets/controls",
            "_model_module_version": "1.5.0",
            "_model_name": "HTMLModel",
            "_view_count": null,
            "_view_module": "@jupyter-widgets/controls",
            "_view_module_version": "1.5.0",
            "_view_name": "HTMLView",
            "description": "",
            "description_tooltip": null,
            "layout": "IPY_MODEL_c6166a5a3fd340929ade411a93b9ad00",
            "placeholder": "​",
            "style": "IPY_MODEL_233e6ea981f945b78c1f2b3b17e7bed5",
            "value": "100%"
          }
        },
        "e1c95580f182467d9d75db0b9e8ccf81": {
          "model_module": "@jupyter-widgets/controls",
          "model_module_version": "1.5.0",
          "model_name": "DescriptionStyleModel",
          "state": {
            "_model_module": "@jupyter-widgets/controls",
            "_model_module_version": "1.5.0",
            "_model_name": "DescriptionStyleModel",
            "_view_count": null,
            "_view_module": "@jupyter-widgets/base",
            "_view_module_version": "1.2.0",
            "_view_name": "StyleView",
            "description_width": ""
          }
        },
        "e6e150bddb7349eeb50f955a77e6cfeb": {
          "model_module": "@jupyter-widgets/controls",
          "model_module_version": "1.5.0",
          "model_name": "ProgressStyleModel",
          "state": {
            "_model_module": "@jupyter-widgets/controls",
            "_model_module_version": "1.5.0",
            "_model_name": "ProgressStyleModel",
            "_view_count": null,
            "_view_module": "@jupyter-widgets/base",
            "_view_module_version": "1.2.0",
            "_view_name": "StyleView",
            "bar_color": null,
            "description_width": ""
          }
        },
        "e8ec3f05f7b341b3859c0b970051fba8": {
          "model_module": "@jupyter-widgets/base",
          "model_module_version": "1.2.0",
          "model_name": "LayoutModel",
          "state": {
            "_model_module": "@jupyter-widgets/base",
            "_model_module_version": "1.2.0",
            "_model_name": "LayoutModel",
            "_view_count": null,
            "_view_module": "@jupyter-widgets/base",
            "_view_module_version": "1.2.0",
            "_view_name": "LayoutView",
            "align_content": null,
            "align_items": null,
            "align_self": null,
            "border": null,
            "bottom": null,
            "display": null,
            "flex": null,
            "flex_flow": null,
            "grid_area": null,
            "grid_auto_columns": null,
            "grid_auto_flow": null,
            "grid_auto_rows": null,
            "grid_column": null,
            "grid_gap": null,
            "grid_row": null,
            "grid_template_areas": null,
            "grid_template_columns": null,
            "grid_template_rows": null,
            "height": null,
            "justify_content": null,
            "justify_items": null,
            "left": null,
            "margin": null,
            "max_height": null,
            "max_width": null,
            "min_height": null,
            "min_width": null,
            "object_fit": null,
            "object_position": null,
            "order": null,
            "overflow": null,
            "overflow_x": null,
            "overflow_y": null,
            "padding": null,
            "right": null,
            "top": null,
            "visibility": null,
            "width": null
          }
        },
        "e90bf066e1c84ce081b72225102fe8fa": {
          "model_module": "@jupyter-widgets/controls",
          "model_module_version": "1.5.0",
          "model_name": "HTMLModel",
          "state": {
            "_dom_classes": [],
            "_model_module": "@jupyter-widgets/controls",
            "_model_module_version": "1.5.0",
            "_model_name": "HTMLModel",
            "_view_count": null,
            "_view_module": "@jupyter-widgets/controls",
            "_view_module_version": "1.5.0",
            "_view_name": "HTMLView",
            "description": "",
            "description_tooltip": null,
            "layout": "IPY_MODEL_dc8a7a274de242dd88fef38adb81aa35",
            "placeholder": "​",
            "style": "IPY_MODEL_84baa1fff88f4d888fd57af704c2cbac",
            "value": " 4542/4542 [00:00&lt;00:00, 376820.33it/s]"
          }
        },
        "e9848a52505b47bba60bffe64046da80": {
          "model_module": "@jupyter-widgets/controls",
          "model_module_version": "1.5.0",
          "model_name": "HBoxModel",
          "state": {
            "_dom_classes": [],
            "_model_module": "@jupyter-widgets/controls",
            "_model_module_version": "1.5.0",
            "_model_name": "HBoxModel",
            "_view_count": null,
            "_view_module": "@jupyter-widgets/controls",
            "_view_module_version": "1.5.0",
            "_view_name": "HBoxView",
            "box_style": "",
            "children": [
              "IPY_MODEL_70019b70c6a04dc4b8fd4b95511a7cce",
              "IPY_MODEL_1bc2400c7cd4472fbc07870295a043a9",
              "IPY_MODEL_8daa78ff0aea45f380f9072dc8335a7c"
            ],
            "layout": "IPY_MODEL_266f7c3c286c4f5d9225327ad758044b"
          }
        },
        "e98ab79039ef40208e70d0394f90f138": {
          "model_module": "@jupyter-widgets/base",
          "model_module_version": "1.2.0",
          "model_name": "LayoutModel",
          "state": {
            "_model_module": "@jupyter-widgets/base",
            "_model_module_version": "1.2.0",
            "_model_name": "LayoutModel",
            "_view_count": null,
            "_view_module": "@jupyter-widgets/base",
            "_view_module_version": "1.2.0",
            "_view_name": "LayoutView",
            "align_content": null,
            "align_items": null,
            "align_self": null,
            "border": null,
            "bottom": null,
            "display": null,
            "flex": null,
            "flex_flow": null,
            "grid_area": null,
            "grid_auto_columns": null,
            "grid_auto_flow": null,
            "grid_auto_rows": null,
            "grid_column": null,
            "grid_gap": null,
            "grid_row": null,
            "grid_template_areas": null,
            "grid_template_columns": null,
            "grid_template_rows": null,
            "height": null,
            "justify_content": null,
            "justify_items": null,
            "left": null,
            "margin": null,
            "max_height": null,
            "max_width": null,
            "min_height": null,
            "min_width": null,
            "object_fit": null,
            "object_position": null,
            "order": null,
            "overflow": null,
            "overflow_x": null,
            "overflow_y": null,
            "padding": null,
            "right": null,
            "top": null,
            "visibility": null,
            "width": null
          }
        },
        "f23a4c62e52540e6a9213dc331ee0f62": {
          "model_module": "@jupyter-widgets/controls",
          "model_module_version": "1.5.0",
          "model_name": "FloatProgressModel",
          "state": {
            "_dom_classes": [],
            "_model_module": "@jupyter-widgets/controls",
            "_model_module_version": "1.5.0",
            "_model_name": "FloatProgressModel",
            "_view_count": null,
            "_view_module": "@jupyter-widgets/controls",
            "_view_module_version": "1.5.0",
            "_view_name": "ProgressView",
            "bar_style": "success",
            "description": "",
            "description_tooltip": null,
            "layout": "IPY_MODEL_148a82d7dc674c35a15bd693a92a389b",
            "max": 1648877,
            "min": 0,
            "orientation": "horizontal",
            "style": "IPY_MODEL_95470e54cde94582a1c7f1d60f6340a2",
            "value": 1648877
          }
        },
        "f784613e7e674e51b1364d2cdec9ffb0": {
          "model_module": "@jupyter-widgets/controls",
          "model_module_version": "1.5.0",
          "model_name": "HTMLModel",
          "state": {
            "_dom_classes": [],
            "_model_module": "@jupyter-widgets/controls",
            "_model_module_version": "1.5.0",
            "_model_name": "HTMLModel",
            "_view_count": null,
            "_view_module": "@jupyter-widgets/controls",
            "_view_module_version": "1.5.0",
            "_view_name": "HTMLView",
            "description": "",
            "description_tooltip": null,
            "layout": "IPY_MODEL_acb6c6f36ef140a3849aa51a002facb2",
            "placeholder": "​",
            "style": "IPY_MODEL_7006613dc6074357af95b1d5749cc8c7",
            "value": " 28881/28881 [00:00&lt;00:00, 2169141.26it/s]"
          }
        },
        "ff675b3390604313a887864ff5fa5bef": {
          "model_module": "@jupyter-widgets/controls",
          "model_module_version": "1.5.0",
          "model_name": "HBoxModel",
          "state": {
            "_dom_classes": [],
            "_model_module": "@jupyter-widgets/controls",
            "_model_module_version": "1.5.0",
            "_model_name": "HBoxModel",
            "_view_count": null,
            "_view_module": "@jupyter-widgets/controls",
            "_view_module_version": "1.5.0",
            "_view_name": "HBoxView",
            "box_style": "",
            "children": [
              "IPY_MODEL_4f106680961c482e9eb34cdfabe35754",
              "IPY_MODEL_f23a4c62e52540e6a9213dc331ee0f62",
              "IPY_MODEL_da7dd64ca66641008012ff869823629e"
            ],
            "layout": "IPY_MODEL_b3b5cfd7fdf04046bc568c6277c848dd"
          }
        }
      }
    }
  },
  "nbformat": 4,
  "nbformat_minor": 0
}
